{
 "cells": [
  {
   "cell_type": "markdown",
   "metadata": {},
   "source": [
    "### Проект e-commerce: вариант 1\n",
    "<!--Скопировал разметку от сюда https://lab.karpov.courses/learning/85/module/1060/lesson/9080/26646/118685/-->\n",
    "<!--удалил css классы и некотрые символы и отформтировал чтоб читаемо было-->\n",
    "<p>Продакт-менеджер Василий попросил вас проанализировать совершенные покупки и ответить на следующие вопросы:</p>\n",
    "1. Сколько у нас пользователей, которые совершили покупку только один раз? (7 баллов)</p>\n",
    "2. Сколько заказов в месяц в среднем не доставляется по разным причинам (вывести детализацию по причинам)? (5 баллов)</p>\n",
    "3. По каждому товару определить, в какой день недели товар чаще всего покупается. (5 баллов)</p>\n",
    "4. Сколько у каждого из пользователей в среднем покупок в неделю (по месяцам)? Не стоит забывать, что внутри месяца может быть не целое количество недель. Например, в ноябре 2021 года 4,28 недели. И внутри метрики это нужно учесть. (8 баллов)</p>\n",
    "5. Используя pandas, проведи когортный анализ пользователей. В период с января по декабрь выяви когорту с самым высоким retention на 3й месяц. Описание подхода можно найти <a href=\"https://vc.ru/s/productstar/134090-chto-takoe-kogortnyy-analiz\" target=\"_blank\">тут</a>. (10 баллов)</p>\n",
    "6. Часто для качественного анализа аудитории использую подходы, основанные на сегментации. Используя python, построй RFM-сегментацию пользователей, чтобы качественно оценить свою аудиторию. В кластеризации можешь выбрать следующие метрики: R - время от последней покупки пользователя до текущей даты, F - суммарное количество покупок у пользователя за всё время, M - сумма покупок за всё время. Подробно опиши, как ты создавал кластеры. Для каждого RFM-сегмента построй границы метрик recency, frequency и monetary для интерпретации этих кластеров. Пример такого описания: RFM-сегмент 132 (recency=1, frequency=3, monetary=2) имеет границы метрик recency от 130 до 500 дней, frequency от 2 до 5 заказов в неделю, monetary от 1780 до 3560 рублей в неделю. Описание подхода можно найти <a href=\"https://guillaume-martin.github.io/rfm-segmentation-with-python.html\" target=\"_blank\">тут</a>. (35 баллов)</p>\n",
    "<br/>\n",
    "\t<b>Для решения задачи проведи предварительное исследование данных и сформулируй, что должно считаться покупкой. Обосновать свой выбор ты можешь с помощью фактов оплат, статусов заказов и других имеющихся данных.</b>\n",
    "</p>\n",
    "\n",
    "<p>— Пример структуры данных можно визуализировать по order_id == 00143d0f86d6fbd9f9b38ab440ac16f5</p>"
   ]
  },
  {
   "cell_type": "markdown",
   "metadata": {},
   "source": [
    "#### Файлы"
   ]
  },
  {
   "cell_type": "markdown",
   "metadata": {},
   "source": [
    "##### olist_customers_datase.csv\n",
    "<ul>\n",
    "\t<li>\n",
    "\t\t<b>\n",
    "\t\t\t<a href=\"https://disk.yandex.ru/d/FUi5uSd6BfG_ig\" target=\"_blank\">olist_customers_datase.csv</a>— таблица с уникальными идентификаторами пользователей</b>\n",
    "\t</li>\n",
    "</ul>\n",
    "<p>\n",
    "\t<i>\n",
    "\t\t<font color=\"#ff5533\">customer_id </font>\n",
    "\t</i>— позаказный идентификатор пользователя</p>\n",
    "<p>\n",
    "\t<i>\n",
    "\t\t<font color=\"#ff5533\">customer_unique_id </font>\n",
    "\t</i>— уникальный идентификатор пользователя(аналог номера паспорта)</p>\n",
    "<p>\n",
    "\t<font color=\"#ff5533\">\n",
    "\t\t<i>customer_zip_code_prefix </i>\n",
    "\t</font>— почтовый индекс пользователя</p>\n",
    "<p>\n",
    "\t<i>\n",
    "\t\t<font color=\"#ff5533\">customer_city</font>\n",
    "\t</i> — город доставки пользователя</p>\n",
    "<p>\n",
    "\t<i>\n",
    "\t\t<font color=\"#ff5533\">customer_state</font>\n",
    "\t</i> — штат доставки пользователя</p>"
   ]
  },
  {
   "cell_type": "markdown",
   "metadata": {},
   "source": [
    "##### olist_orders_dataset.csv\n",
    "<ul>\n",
    "\t<li>\n",
    "\t\t<b>\n",
    "\t\t\t<a href=\"https://disk.yandex.ru/d/t9Li4JOfgxuUrg\" target=\"_blank\">olist_orders_dataset.csv</a>—таблица заказов</b>\n",
    "\t</li>\n",
    "</ul>\n",
    "<p>\n",
    "\t<i>\n",
    "\t\t<font color=\"#ff5533\">order_id</font>\n",
    "\t</i> — уникальный идентификатор заказа (номер чека)</p>\n",
    "<p>\n",
    "\t<i>\n",
    "\t\t<font color=\"#ff5533\">customer_id</font>\n",
    "\t</i> — позаказный идентификатор пользователя</p>\n",
    "<p>\n",
    "\t<i>\n",
    "\t\t<font color=\"#ff5533\">order_status</font>\n",
    "\t</i> — статус заказа</p>\n",
    "<p>\n",
    "\t<font color=\"#ff5533\">\n",
    "\t\t<i>order_purchase_timestamp </i>\n",
    "\t</font>— время создания заказа</p>\n",
    "<p>\n",
    "\t<i>\n",
    "\t\t<font color=\"#ff5533\">order_approved_at </font>\n",
    "\t</i>— время подтверждения оплаты заказа</p>\n",
    "<p>\n",
    "\t<i>\n",
    "\t\t<font color=\"#ff5533\">order_delivered_carrier_date</font>\n",
    "\t</i> — время передачи заказа в логистическую службу</p>\n",
    "<p>\n",
    "\t<font color=\"#ff5533\">\n",
    "\t\t<i>order_delivered_customer_date</i>\n",
    "\t</font> — время доставки заказа</p>\n",
    "<p>\n",
    "\t<i>\n",
    "\t\t<font color=\"#ff5533\">order_estimated_delivery_date</font>\n",
    "\t</i> — обещанная дата доставки</p>"
   ]
  },
  {
   "cell_type": "markdown",
   "metadata": {},
   "source": [
    "##### olist_order_items_dataset.csv\n",
    "<ul>\n",
    "\t<li>\n",
    "\t\t<a href=\"https://disk.yandex.ru/d/Gbt-yAcQrOe3Pw\" target=\"_blank\">olist_order_items_dataset.csv</a>— <b>товарные позиции, входящие в заказы</b>\n",
    "\t</li>\n",
    "</ul>\n",
    "<p>\n",
    "\t<i>\n",
    "\t\t<font color=\"#ff5533\">order_id</font>\n",
    "\t</i> — уникальный идентификатор заказа (номер чека)</p>\n",
    "<p>\n",
    "\t<i>\n",
    "\t\t<font color=\"#ff5533\">order_item_id</font>\n",
    "\t</i> — идентификатор товара внутри одного заказа</p>\n",
    "<p>\n",
    "\t<font color=\"#ff5533\">\n",
    "\t\t<i>product_id</i>\n",
    "\t</font> — ид товара (аналог штрихкода)</p>\n",
    "<p>\n",
    "\t<i>\n",
    "\t\t<font color=\"#ff5533\">seller_id</font>\n",
    "\t</i>—ид производителя товара</p>\n",
    "<p>\n",
    "\t<i>\n",
    "\t\t<font color=\"#ff5533\">shipping_limit_date</font>\n",
    "\t</i> — максимальная дата доставки продавцом для передачи заказа партнеру по логистике</p>\n",
    "<p>\n",
    "\t<font color=\"#ff5533\">\n",
    "\t\t<i>price</i>\n",
    "\t</font> — цена за единицу товара</p>\n",
    "<p>\n",
    "\t<i>\n",
    "\t\t<font color=\"#ff5533\">freight_value</font>\n",
    "\t</i> — вес товара</p>"
   ]
  },
  {
   "cell_type": "markdown",
   "metadata": {},
   "source": [
    "#### Статусы заказов в таблице <font color=\"#ff5533\">olist_orders_dataset:</font>\n",
    "<ul>\n",
    "\t<li>created — создан</li>\n",
    "</ul>\n",
    "<ul>\n",
    "\t<li>approved — подтверждён</li>\n",
    "</ul>\n",
    "<ul>\n",
    "\t<li>invoiced — выставлен счёт</li>\n",
    "</ul>\n",
    "<ul>\n",
    "\t<li>processing — в процессе сборки заказа</li>\n",
    "</ul>\n",
    "<ul>\n",
    "\t<li>shipped — отгружен со склада</li>\n",
    "</ul>\n",
    "<ul>\n",
    "\t<li>delivered — доставлен пользователю </li>\n",
    "</ul>\n",
    "<ul>\n",
    "\t<li>unavailable — недоступен</li>\n",
    "</ul>\n",
    "<ul>\n",
    "\t<li>canceled — отменён</li>\n",
    "</ul>"
   ]
  },
  {
   "cell_type": "code",
   "execution_count": 488,
   "metadata": {},
   "outputs": [],
   "source": [
    "# в этом блоке будем импортировать нужные зависимости и библиотеки\n",
    "import pandas as pd\n",
    "import numpy as np\n",
    "import seaborn as sns\n",
    "import matplotlib.pyplot as plt\n",
    "from datetime import timedelta\n",
    "\n",
    "import Configs.configsutils as utils\n",
    "\n",
    "%matplotlib inline"
   ]
  },
  {
   "cell_type": "markdown",
   "metadata": {},
   "source": [
    "### 1. Подготовим источники данных и входные параметры"
   ]
  },
  {
   "cell_type": "markdown",
   "metadata": {},
   "source": [
    "#### 1.1 Источники данных\n",
    "\n",
    "<p>У нас есть 3 CSV-файла которые на момент 2022.06.07 доступны на Яндекс диске</p>\n",
    "\n",
    "<p>Что бы не тащить большие файлы в репозиторий сделаем 2 JSON файла формата:</p>\n",
    "\n",
    "<code>\n",
    "<pre>\n",
    "{\n",
    "    \"sources\" : {\n",
    "        \"data_src_name\" : {\n",
    "            \"name\" : \"file.csv\",\n",
    "            \"src\"  : \"../../../first_project_data/file.csv\"\n",
    "        }\n",
    "    }\n",
    "}\n",
    "</pre>\n",
    "</code>\n",
    "\n",
    "<ul>\n",
    "    <li><font color=\"#ff5533\">data_src_local.json</font> первый будет ссылаться на локальные файлы</li>\n",
    "    <li><font color=\"#ff5533\">data_src_remote.json</font> второй будет ссылаться на файлы расположенные удалленно</li>\n",
    "</ul>\n",
    "\n",
    "<p>файлы можно найти в директории <font color=\"#ff5533\">Configs</font>"
   ]
  },
  {
   "cell_type": "markdown",
   "metadata": {},
   "source": [
    "#### ВАЖНО!:\n",
    "<font color=\"#ff5533\">data_src_remote.json</font> сейчас содержит не валидные ссылки на Яндекс.Диск, по этому дальше будем работать с локальной копией."
   ]
  },
  {
   "cell_type": "markdown",
   "metadata": {},
   "source": [
    "#### 1.2 Входные параметры\n",
    "\n",
    "<p>Определим <font color=\"#ff5533\">main_config.json</font> для хранения и настройки входных данных например ввиде профайлов</p>\n",
    "\n",
    "<p>файл можно найти в директории <font color=\"#ff5533\">Configs</font> "
   ]
  },
  {
   "cell_type": "code",
   "execution_count": 87,
   "metadata": {},
   "outputs": [],
   "source": [
    "# определим data source names (aka prefix dsn):\n",
    "dsn_olist_customers_dataset = \"olist_customers_dataset\"\n",
    "dsn_olist_order_items_dataset = \"olist_order_items_dataset\"\n",
    "dsn_olist_orders_dataset = \"olist_orders_dataset\"\n",
    "\n",
    "# определим с какими данные работаем (local|remote)\n",
    "profile = \"local\"\n",
    "# profile = \"remote\"\n",
    "\n",
    "# определяем путь до основного кофига\n",
    "config_dir = './Configs'\n",
    "main_config_path = f'{config_dir}/main_config.json'"
   ]
  },
  {
   "cell_type": "code",
   "execution_count": 88,
   "metadata": {},
   "outputs": [
    {
     "name": "stdout",
     "output_type": "stream",
     "text": [
      "текущий профиль: local : ./Configs/data_src_local.json\n"
     ]
    }
   ],
   "source": [
    "# считываем основной конфиг\n",
    "main_config = utils.Config(utils.read_json(main_config_path), config_dir)\n",
    "\n",
    "main_config.select_profile(profile)\n",
    "\n",
    "print(f'текущий профиль: {profile} : {main_config.current.path}')\n",
    "\n",
    "# считываем конфиг источника данных\n",
    "\n",
    "data_src = utils.DataCollection(utils.read_json(main_config.current.path))"
   ]
  },
  {
   "cell_type": "code",
   "execution_count": 89,
   "metadata": {},
   "outputs": [
    {
     "name": "stdout",
     "output_type": "stream",
     "text": [
      "(True, 'тексты пройдены')\n"
     ]
    }
   ],
   "source": [
    "# проверим конфиг данных\n",
    "# по заданию у нас три файла\n",
    "files = [dsn_olist_customers_dataset, dsn_olist_order_items_dataset, dsn_olist_orders_dataset]\n",
    "\n",
    "actual = utils.test_DataCollection(data_src, files, main_config.current.path)\n",
    "\n",
    "print(actual)"
   ]
  },
  {
   "cell_type": "markdown",
   "metadata": {},
   "source": [
    "### 2. Считываем данные"
   ]
  },
  {
   "cell_type": "markdown",
   "metadata": {},
   "source": [
    "#### Описание olist_customers_datase.csv\n",
    "таблица с уникальными идентификаторами пользователей\n",
    "<font size=\"-1\">\n",
    "<br/>\n",
    "\t<i>\n",
    "\t\t<font color=\"#ff5533\">customer_id </font>\n",
    "\t</i>— позаказный идентификатор пользователя\n",
    "<br/>\n",
    "\t<i>\n",
    "\t\t<font color=\"#ff5533\">customer_unique_id </font>\n",
    "\t</i>— уникальный идентификатор пользователя(аналог номера паспорта)\n",
    "<br/>\n",
    "\t<font color=\"#ff5533\">\n",
    "\t\t<i>customer_zip_code_prefix </i>\n",
    "\t</font>— почтовый индекс пользователя\n",
    "<br/>\n",
    "\t<i>\n",
    "\t\t<font color=\"#ff5533\">customer_city</font>\n",
    "\t</i> — город доставки пользователя\n",
    "<br/>\n",
    "\t<i>\n",
    "\t\t<font color=\"#ff5533\">customer_state</font>\n",
    "\t</i> — штат доставки пользователя\n",
    "</font>"
   ]
  },
  {
   "cell_type": "code",
   "execution_count": 90,
   "metadata": {},
   "outputs": [],
   "source": [
    "df_customers = pd.read_csv(data_src.data[dsn_olist_customers_dataset].src)"
   ]
  },
  {
   "cell_type": "markdown",
   "metadata": {},
   "source": [
    "#### Описание olist_orders_dataset.csv\n",
    "таблица заказов\n",
    "<font size=\"-1\">\n",
    "<br/>\n",
    "\t<i>\n",
    "\t\t<font color=\"#ff5533\">order_id</font>\n",
    "\t</i> — уникальный идентификатор заказа (номер чека)\n",
    "<br/>\n",
    "\t<i>\n",
    "\t\t<font color=\"#ff5533\">customer_id</font>\n",
    "\t</i> — позаказный идентификатор пользователя\n",
    "<br/>\n",
    "\t<i>\n",
    "\t\t<font color=\"#ff5533\">order_status</font>\n",
    "\t</i> — статус заказа\n",
    "<br/>\n",
    "\t<font color=\"#ff5533\">\n",
    "\t\t<i>order_purchase_timestamp </i>\n",
    "\t</font>— время создания заказа\n",
    "<br/>\n",
    "\t<i>\n",
    "\t\t<font color=\"#ff5533\">order_approved_at </font>\n",
    "\t</i>— время подтверждения оплаты заказа\n",
    "<br/>\n",
    "\t<i>\n",
    "\t\t<font color=\"#ff5533\">order_delivered_carrier_date</font>\n",
    "\t</i> — время передачи заказа в логистическую службу\n",
    "<br/>\n",
    "\t<font color=\"#ff5533\">\n",
    "\t\t<i>order_delivered_customer_date</i>\n",
    "\t</font> — время доставки заказа\n",
    "</font>"
   ]
  },
  {
   "cell_type": "code",
   "execution_count": 91,
   "metadata": {},
   "outputs": [],
   "source": [
    "# определим имена колонок которые нужно распарсить как datetime\n",
    "orders_date_columns = [\n",
    "    'order_purchase_timestamp',\n",
    "    'order_approved_at',\n",
    "    'order_delivered_carrier_date',\n",
    "    'order_delivered_customer_date',\n",
    "    'order_estimated_delivery_date'\n",
    "]\n",
    "df_orders = pd.read_csv(data_src.data[dsn_olist_orders_dataset].src, parse_dates=orders_date_columns)"
   ]
  },
  {
   "cell_type": "markdown",
   "metadata": {},
   "source": [
    "#### Описание olist_order_items_dataset.csv\n",
    "товарные позиции, входящие в заказы\n",
    "<font size=\"-1\">\n",
    "<br/>\n",
    "\t<i>\n",
    "\t\t<font color=\"#ff5533\">order_id</font>\n",
    "\t</i> — уникальный идентификатор заказа (номер чека)\n",
    "<br/>\n",
    "\t<i>\n",
    "\t\t<font color=\"#ff5533\">order_item_id</font>\n",
    "\t</i> — идентификатор товара внутри одного заказа\n",
    "<br/>\n",
    "\t<font color=\"#ff5533\">\n",
    "\t\t<i>product_id</i>\n",
    "\t</font> — ид товара (аналог штрихкода)\n",
    "<br/>\n",
    "\t<i>\n",
    "\t\t<font color=\"#ff5533\">seller_id</font>\n",
    "\t</i>—ид производителя товара\n",
    "<br/>\n",
    "\t<i>\n",
    "\t\t<font color=\"#ff5533\">shipping_limit_date</font>\n",
    "\t</i> — максимальная дата доставки продавцом для передачи заказа партнеру по логистике\n",
    "<br/>\n",
    "\t<font color=\"#ff5533\">\n",
    "\t\t<i>price</i>\n",
    "\t</font> — цена за единицу товара\n",
    "<br/>\n",
    "\t<i>\n",
    "\t\t<font color=\"#ff5533\">freight_value</font>\n",
    "\t</i> — вес товара\n",
    "</font>"
   ]
  },
  {
   "cell_type": "code",
   "execution_count": 92,
   "metadata": {},
   "outputs": [],
   "source": [
    "# определим имена колонок которые нужно распарсить как datetime\n",
    "orders_items_date_columns = ['shipping_limit_date']\n",
    "df_order_items = pd.read_csv(data_src.data[dsn_olist_order_items_dataset].src, parse_dates=orders_items_date_columns)"
   ]
  },
  {
   "cell_type": "code",
   "execution_count": 624,
   "metadata": {},
   "outputs": [],
   "source": [
    "# определим цветовую схему для графиков\n",
    "our_palette = {\n",
    "    'default' : 'silver',\n",
    "    'max' : 'firebrick'\n",
    "}"
   ]
  },
  {
   "cell_type": "markdown",
   "metadata": {},
   "source": [
    "### Вопрос 1 \n",
    "Сколько у нас пользователей, которые совершили покупку только один раз? (7 баллов)"
   ]
  },
  {
   "cell_type": "code",
   "execution_count": 93,
   "metadata": {},
   "outputs": [],
   "source": [
    "# из описания данных поле order_approved_at это время подтверждения опраты\n",
    "# создаем колонку с меткой что оплата была получена\n",
    "df_orders['paid'] = ~df_orders.order_approved_at.isna()"
   ]
  },
  {
   "cell_type": "code",
   "execution_count": 94,
   "metadata": {},
   "outputs": [
    {
     "name": "stdout",
     "output_type": "stream",
     "text": [
      "все статусы:\n",
      "\t['delivered' 'invoiced' 'shipped' 'processing' 'unavailable' 'canceled'\n",
      " 'created' 'approved']\n",
      "\n",
      "статусы оплаченых заказов:\n",
      "\t['delivered' 'invoiced' 'shipped' 'processing' 'unavailable' 'canceled'\n",
      " 'approved']\n",
      "\n",
      "статусы НЕ оплаченных заказов:\n",
      "\t['canceled' 'delivered' 'created']\n",
      "\n"
     ]
    }
   ],
   "source": [
    "print(f'''все статусы:\n",
    "\\t{df_orders.order_status.unique()}\n",
    "\n",
    "статусы оплаченых заказов:\n",
    "\\t{df_orders[df_orders.paid].order_status.unique()}\n",
    "\n",
    "статусы НЕ оплаченных заказов:\n",
    "\\t{df_orders[~df_orders.paid].order_status.unique()}\n",
    "''')"
   ]
  },
  {
   "cell_type": "code",
   "execution_count": 95,
   "metadata": {},
   "outputs": [],
   "source": [
    "# статусы заказов которые не позволяют сказать что совершена покупка\n",
    "not_paid_statuses = ['unavailable' 'canceled']"
   ]
  },
  {
   "cell_type": "code",
   "execution_count": 96,
   "metadata": {},
   "outputs": [],
   "source": [
    "# фильтруем по критериям того что покупка совершена (прошел платеж и подходящий статус)\n",
    "# подмерживаем к таблице с пользователями чтоб сгрупировать по уникальным ID\n",
    "df_customer_vs_order_count = df_orders.query('order_status not in @not_paid_statuses and paid') \\\n",
    "    .groupby(by='customer_id', as_index=False) \\\n",
    "    .agg({'paid':'sum'}) \\\n",
    "    .rename(columns={'paid':'count_paid_orders'}) \\\n",
    "    .merge(df_customers[['customer_id', 'customer_unique_id']], on='customer_id') \\\n",
    "    .groupby(by='customer_unique_id', as_index=False) \\\n",
    "    .agg({'count_paid_orders':'sum'}) \\\n",
    "    .sort_values('count_paid_orders', ascending=False)"
   ]
  },
  {
   "cell_type": "code",
   "execution_count": 97,
   "metadata": {},
   "outputs": [
    {
     "data": {
      "text/html": [
       "<div>\n",
       "<style scoped>\n",
       "    .dataframe tbody tr th:only-of-type {\n",
       "        vertical-align: middle;\n",
       "    }\n",
       "\n",
       "    .dataframe tbody tr th {\n",
       "        vertical-align: top;\n",
       "    }\n",
       "\n",
       "    .dataframe thead th {\n",
       "        text-align: right;\n",
       "    }\n",
       "</style>\n",
       "<table border=\"1\" class=\"dataframe\">\n",
       "  <thead>\n",
       "    <tr style=\"text-align: right;\">\n",
       "      <th></th>\n",
       "      <th>customer_unique_id</th>\n",
       "      <th>count_paid_orders</th>\n",
       "    </tr>\n",
       "  </thead>\n",
       "  <tbody>\n",
       "    <tr>\n",
       "      <th>52925</th>\n",
       "      <td>8d50f5eadf50201ccdcedfb9e2ac8455</td>\n",
       "      <td>17</td>\n",
       "    </tr>\n",
       "    <tr>\n",
       "      <th>23450</th>\n",
       "      <td>3e43e6105506432c953e165fb2acf44c</td>\n",
       "      <td>9</td>\n",
       "    </tr>\n",
       "    <tr>\n",
       "      <th>10344</th>\n",
       "      <td>1b6c7548a2a1f9037c1fd3ddfed95f33</td>\n",
       "      <td>7</td>\n",
       "    </tr>\n",
       "    <tr>\n",
       "      <th>37764</th>\n",
       "      <td>6469f99c1f9dfae7733b25662e7f1782</td>\n",
       "      <td>7</td>\n",
       "    </tr>\n",
       "    <tr>\n",
       "      <th>76005</th>\n",
       "      <td>ca77025e7201e3b30c44b472ff346268</td>\n",
       "      <td>7</td>\n",
       "    </tr>\n",
       "  </tbody>\n",
       "</table>\n",
       "</div>"
      ],
      "text/plain": [
       "                     customer_unique_id  count_paid_orders\n",
       "52925  8d50f5eadf50201ccdcedfb9e2ac8455                 17\n",
       "23450  3e43e6105506432c953e165fb2acf44c                  9\n",
       "10344  1b6c7548a2a1f9037c1fd3ddfed95f33                  7\n",
       "37764  6469f99c1f9dfae7733b25662e7f1782                  7\n",
       "76005  ca77025e7201e3b30c44b472ff346268                  7"
      ]
     },
     "execution_count": 97,
     "metadata": {},
     "output_type": "execute_result"
    }
   ],
   "source": [
    "df_customer_vs_order_count.head()"
   ]
  },
  {
   "cell_type": "code",
   "execution_count": 98,
   "metadata": {},
   "outputs": [
    {
     "name": "stdout",
     "output_type": "stream",
     "text": [
      "одну покупку совержили: 93049\n"
     ]
    }
   ],
   "source": [
    "# отфильтруем тех пользователей у которых есть только одна покупка\n",
    "print(f'одну покупку совержили: {df_customer_vs_order_count.query(\"count_paid_orders == 1\").shape[0]}')"
   ]
  },
  {
   "cell_type": "markdown",
   "metadata": {},
   "source": [
    "#### Вопрос 1 (ответ) \n",
    "Итого у нас <font color=\"#ff5533\">93049</font> пользователей, которые совершили покупку только один раз"
   ]
  },
  {
   "cell_type": "markdown",
   "metadata": {},
   "source": [
    "# Вопрос 2\n",
    "Сколько заказов в месяц в среднем не доставляется по разным причинам (вывести детализацию по причинам)? (5 баллов)"
   ]
  },
  {
   "cell_type": "code",
   "execution_count": 99,
   "metadata": {},
   "outputs": [],
   "source": [
    "# в датасете с товарными позициями есть колонка\n",
    "# shipping_limit_date - максимальная дата доставки продавцом для передачи заказа партнеру по логистике\n",
    "# подмержим эти данные к основному датасету с заказами\n",
    " \n",
    "df_order_shipping_limit_date = df_order_items.groupby(by='order_id', as_index=False).shipping_limit_date.first()\n",
    "\n",
    "df_o = df_orders.merge(df_order_shipping_limit_date, on='order_id', how='left')"
   ]
  },
  {
   "cell_type": "code",
   "execution_count": 100,
   "metadata": {},
   "outputs": [],
   "source": [
    "# Предполагаемый месяц доставки\n",
    "df_o['estimated_month'] = df_o.order_estimated_delivery_date.dt.month_name()\n",
    "\n",
    "# Фактический месяц доставки клиенту\n",
    "# df_o['delivered_month'] = df_o.order_delivered_customer_date.dt.month_name()\n",
    "\n",
    "# округляем даты до год-месяц\n",
    "estimated_y_m = df_o.order_estimated_delivery_date.dt.to_period('M')\n",
    "real_y_m = df_o.order_delivered_customer_date.dt.to_period('M')\n",
    "\n",
    "# Доставлен в Пердполагаемом месяце\n",
    "df_o['delivered_at_estimated_month'] = estimated_y_m == real_y_m\n",
    "\n",
    "# Доставлен раньше Пердполагаемого месяца\n",
    "df_o['delivered_earlier'] = estimated_y_m > real_y_m\n",
    "\n",
    "# Опоздал ли продавец?\n",
    "df_o['shipping_late'] = df_o.order_delivered_carrier_date > df_o.shipping_limit_date\n",
    "\n",
    "# Оплачен ли заказ? \n",
    "df_o['paid'] = ~df_o.order_approved_at.isna()"
   ]
  },
  {
   "cell_type": "markdown",
   "metadata": {},
   "source": [
    "#### Майним причины"
   ]
  },
  {
   "cell_type": "code",
   "execution_count": 101,
   "metadata": {},
   "outputs": [],
   "source": [
    "# берем причины из имеющихся\n",
    "df_o['reason'] = df_o.order_status\n",
    "\n",
    "# не доставлено и не оплачено\n",
    "# df_o.loc[(~df_o.delivered_at_estimated_month & ~df_o.paid), 'reason'] = 'not_paid'\n",
    "\n",
    "# не доставлено, но доставлено раньше \n",
    "df_o.loc[(~df_o.delivered_at_estimated_month & df_o.delivered_earlier), 'reason'] = 'delivered_earlier'\n",
    "\n",
    "# не доставлено и продавец опаздал\n",
    "df_o.loc[(~df_o.delivered_at_estimated_month & df_o.shipping_late), 'reason'] = 'shipping_late'"
   ]
  },
  {
   "cell_type": "markdown",
   "metadata": {},
   "source": [
    "#### Метод для вывода ответа\n",
    "\n",
    "DRY"
   ]
  },
  {
   "cell_type": "code",
   "execution_count": 625,
   "metadata": {},
   "outputs": [],
   "source": [
    "def question2(df, filter):\n",
    "    df = df.query('reason not in @filter')\n",
    "    # подсчитываем средне-месячное число не доставляемых заказов \n",
    "    monthly_mean = df.groupby(by='estimated_month').order_id.count().mean()\n",
    "\n",
    "    print(f'средне-месячное число не доставленных заказов: {round(monthly_mean, 2)}')\n",
    "\n",
    "    # выводим распредение по причинам:\n",
    "    ax = sns.displot(df, x='reason', aspect=3, color=our_palette['default'])\n",
    "    ax.axes.flat[0].set_title('Распредение по причинам')\n",
    " \n",
    "    # подкрасим максимальное значение \n",
    "    max_value = df.reason.value_counts().max()\n",
    "    for bar in ax.axes.flat[0].patches:\n",
    "        value = bar.get_height()\n",
    "\n",
    "        if value == max_value:\n",
    "            bar.set_color(our_palette['max'])\n",
    "\n"
   ]
  },
  {
   "cell_type": "markdown",
   "metadata": {},
   "source": [
    "#### С учетом доставленных раньше планируемого месяца"
   ]
  },
  {
   "cell_type": "code",
   "execution_count": 626,
   "metadata": {},
   "outputs": [
    {
     "name": "stdout",
     "output_type": "stream",
     "text": [
      "средне-месячное число не доставленных заказов: 3662.25\n"
     ]
    },
    {
     "data": {
      "image/png": "[encoded data removed]",
      "text/plain": [
       "<Figure size 1080x360 with 1 Axes>"
      ]
     },
     "metadata": {
      "needs_background": "light"
     },
     "output_type": "display_data"
    }
   ],
   "source": [
    "reasons = ['delivered']\n",
    "question2(df_o, reasons)"
   ]
  },
  {
   "cell_type": "markdown",
   "metadata": {},
   "source": [
    "#### Без учета доставленных раньше планируемого месяца\n",
    "то есть будем считать такие заказы доставлеными"
   ]
  },
  {
   "cell_type": "code",
   "execution_count": 622,
   "metadata": {},
   "outputs": [
    {
     "name": "stdout",
     "output_type": "stream",
     "text": [
      "средне-месячное число не доставленных заказов: 482.08\n"
     ]
    },
    {
     "data": {
      "image/png": "[encoded data removed]",
      "text/plain": [
       "<Figure size 1080x360 with 1 Axes>"
      ]
     },
     "metadata": {
      "needs_background": "light"
     },
     "output_type": "display_data"
    }
   ],
   "source": [
    "reasons = ['delivered', 'delivered_earlier']\n",
    "question2(df_o, reasons)"
   ]
  },
  {
   "cell_type": "markdown",
   "metadata": {},
   "source": [
    "#### Вывод\n",
    "\n",
    "* Если учитывать что случаи когда доставка была совершена раньше предполагаемой **(delivered_earlier)**, то можно сказать что довольно часто даем писсимистическую оценку о дате предполагаемой доставки\n",
    "* среди других причени довольно часто встречется **shipping_late** - опаздывающие продовцы"
   ]
  },
  {
   "cell_type": "markdown",
   "metadata": {},
   "source": [
    "# Вопрос 3.\n",
    "По каждому товару определить, в какой день недели товар чаще всего покупается. (5 баллов)"
   ]
  },
  {
   "cell_type": "markdown",
   "metadata": {},
   "source": [
    "Что будем делать:\n",
    "* дата покупки **order_purchase_timestamp** содержиится в таблице с заказами **df_orders**\n",
    "* не будем использовать **order_approved_at** т.к. фактическая оплата зависит не только от намерений клиента но еще например от продавцов выставляющих invoice\n",
    "* так же будем игнорировать статусы т.к. разные статусы выстовляются позже на разных этапах\n",
    "\n",
    "* смержим два датасета **df_orders[['order_id', 'order_purchase_timestamp']]** и **df_orders_items**\n",
    "* сгруппируем по **product_id**\n",
    "* выберем самый частый день покупки товара"
   ]
  },
  {
   "cell_type": "code",
   "execution_count": 105,
   "metadata": {},
   "outputs": [],
   "source": [
    "# смержим датасеты\n",
    "df_purchase_date = df_order_items[['order_id', 'product_id']] \\\n",
    "    .merge(df_orders[['order_id', 'order_purchase_timestamp']], on='order_id')"
   ]
  },
  {
   "cell_type": "code",
   "execution_count": 106,
   "metadata": {},
   "outputs": [],
   "source": [
    "# выделим день покупки\n",
    "df_purchase_date['day_of_week'] = df_purchase_date.order_purchase_timestamp.dt.day_name()\n",
    "\n",
    "# сгрупируем по product_id\n",
    "df_max_purchases_a_day = df_purchase_date.groupby(by='product_id') \\\n",
    "    .day_of_week.value_counts().to_frame() \\\n",
    "    .rename(columns={'day_of_week':'counts'}) \\\n",
    "    .sort_values('counts', ascending=False) \\\n",
    "    .reset_index() \\\n",
    "    .groupby(by='product_id').head(1)"
   ]
  },
  {
   "cell_type": "code",
   "execution_count": 107,
   "metadata": {},
   "outputs": [
    {
     "data": {
      "text/html": [
       "<div>\n",
       "<style scoped>\n",
       "    .dataframe tbody tr th:only-of-type {\n",
       "        vertical-align: middle;\n",
       "    }\n",
       "\n",
       "    .dataframe tbody tr th {\n",
       "        vertical-align: top;\n",
       "    }\n",
       "\n",
       "    .dataframe thead th {\n",
       "        text-align: right;\n",
       "    }\n",
       "</style>\n",
       "<table border=\"1\" class=\"dataframe\">\n",
       "  <thead>\n",
       "    <tr style=\"text-align: right;\">\n",
       "      <th></th>\n",
       "      <th>product_id</th>\n",
       "      <th>day_of_week</th>\n",
       "      <th>counts</th>\n",
       "    </tr>\n",
       "  </thead>\n",
       "  <tbody>\n",
       "    <tr>\n",
       "      <th>0</th>\n",
       "      <td>422879e10f46682990de24d770e7f83d</td>\n",
       "      <td>Wednesday</td>\n",
       "      <td>93</td>\n",
       "    </tr>\n",
       "    <tr>\n",
       "      <th>1</th>\n",
       "      <td>99a4788cb24856965c36a24e339b6058</td>\n",
       "      <td>Monday</td>\n",
       "      <td>92</td>\n",
       "    </tr>\n",
       "    <tr>\n",
       "      <th>2</th>\n",
       "      <td>aca2eb7d00ea1a7b8ebd4e68314663af</td>\n",
       "      <td>Thursday</td>\n",
       "      <td>89</td>\n",
       "    </tr>\n",
       "    <tr>\n",
       "      <th>8</th>\n",
       "      <td>53b36df67ebb7c41585e8d54d6772e08</td>\n",
       "      <td>Tuesday</td>\n",
       "      <td>76</td>\n",
       "    </tr>\n",
       "    <tr>\n",
       "      <th>13</th>\n",
       "      <td>368c6c730842d78016ad823897a372db</td>\n",
       "      <td>Friday</td>\n",
       "      <td>67</td>\n",
       "    </tr>\n",
       "  </tbody>\n",
       "</table>\n",
       "</div>"
      ],
      "text/plain": [
       "                          product_id day_of_week  counts\n",
       "0   422879e10f46682990de24d770e7f83d   Wednesday      93\n",
       "1   99a4788cb24856965c36a24e339b6058      Monday      92\n",
       "2   aca2eb7d00ea1a7b8ebd4e68314663af    Thursday      89\n",
       "8   53b36df67ebb7c41585e8d54d6772e08     Tuesday      76\n",
       "13  368c6c730842d78016ad823897a372db      Friday      67"
      ]
     },
     "execution_count": 107,
     "metadata": {},
     "output_type": "execute_result"
    }
   ],
   "source": [
    "df_max_purchases_a_day.head()"
   ]
  },
  {
   "cell_type": "code",
   "execution_count": 108,
   "metadata": {},
   "outputs": [],
   "source": [
    "# другой вариант (запись короче, расчет дольше)\n",
    "# сгрупируем по product_id\n",
    "# df_purchase_date.groupby(by='product_id', as_index=False) \\\n",
    "    # .agg({'day_of_week': lambda x: x.value_counts().idxmax()}) \\\n",
    "    # .sort_values(by=['product_id', 'day_of_week'])"
   ]
  },
  {
   "cell_type": "code",
   "execution_count": 109,
   "metadata": {},
   "outputs": [
    {
     "data": {
      "text/html": [
       "<div>\n",
       "<style scoped>\n",
       "    .dataframe tbody tr th:only-of-type {\n",
       "        vertical-align: middle;\n",
       "    }\n",
       "\n",
       "    .dataframe tbody tr th {\n",
       "        vertical-align: top;\n",
       "    }\n",
       "\n",
       "    .dataframe thead th {\n",
       "        text-align: right;\n",
       "    }\n",
       "</style>\n",
       "<table border=\"1\" class=\"dataframe\">\n",
       "  <thead>\n",
       "    <tr style=\"text-align: right;\">\n",
       "      <th></th>\n",
       "      <th>day_of_week</th>\n",
       "      <th>counts</th>\n",
       "    </tr>\n",
       "  </thead>\n",
       "  <tbody>\n",
       "    <tr>\n",
       "      <th>1</th>\n",
       "      <td>Monday</td>\n",
       "      <td>10153</td>\n",
       "    </tr>\n",
       "    <tr>\n",
       "      <th>5</th>\n",
       "      <td>Tuesday</td>\n",
       "      <td>9207</td>\n",
       "    </tr>\n",
       "    <tr>\n",
       "      <th>6</th>\n",
       "      <td>Wednesday</td>\n",
       "      <td>8651</td>\n",
       "    </tr>\n",
       "    <tr>\n",
       "      <th>0</th>\n",
       "      <td>Friday</td>\n",
       "      <td>8242</td>\n",
       "    </tr>\n",
       "    <tr>\n",
       "      <th>4</th>\n",
       "      <td>Thursday</td>\n",
       "      <td>8130</td>\n",
       "    </tr>\n",
       "    <tr>\n",
       "      <th>3</th>\n",
       "      <td>Sunday</td>\n",
       "      <td>5753</td>\n",
       "    </tr>\n",
       "    <tr>\n",
       "      <th>2</th>\n",
       "      <td>Saturday</td>\n",
       "      <td>4999</td>\n",
       "    </tr>\n",
       "  </tbody>\n",
       "</table>\n",
       "</div>"
      ],
      "text/plain": [
       "  day_of_week  counts\n",
       "1      Monday   10153\n",
       "5     Tuesday    9207\n",
       "6   Wednesday    8651\n",
       "0      Friday    8242\n",
       "4    Thursday    8130\n",
       "3      Sunday    5753\n",
       "2    Saturday    4999"
      ]
     },
     "execution_count": 109,
     "metadata": {},
     "output_type": "execute_result"
    }
   ],
   "source": [
    "df_dist = df_max_purchases_a_day.groupby(by='day_of_week', as_index=False) \\\n",
    "    .agg({'counts':'sum'}) \\\n",
    "    .sort_values('counts', ascending=False)\n",
    "\n",
    "df_dist"
   ]
  },
  {
   "cell_type": "code",
   "execution_count": 627,
   "metadata": {},
   "outputs": [
    {
     "data": {
      "image/png": "[encoded data removed]",
      "text/plain": [
       "<Figure size 1440x720 with 1 Axes>"
      ]
     },
     "metadata": {
      "needs_background": "light"
     },
     "output_type": "display_data"
    }
   ],
   "source": [
    "fig, axs = plt.subplots(1)\n",
    "fig.set_figwidth(20)\n",
    "fig.set_figheight(10)\n",
    "\n",
    "clrs = [our_palette['default'] if (x < df_dist.counts.max()) else our_palette['max'] for x in df_dist.counts ]\n",
    "ax = sns.barplot(data=df_dist, x='day_of_week', y='counts', palette=clrs)\n",
    "\n",
    "ax.set_title('Распределение дней недели в которые совершались покупки')\n",
    "ax.title.set_fontsize(20)"
   ]
  },
  {
   "cell_type": "markdown",
   "metadata": {},
   "source": [
    "# Вопрос 4.\n",
    "Сколько у каждого из пользователей в среднем покупок в неделю (по месяцам)? Не стоит забывать, что внутри месяца может быть не целое количество недель. Например, в ноябре 2021 года 4,28 недели. И внутри метрики это нужно учесть. (8 баллов)"
   ]
  },
  {
   "cell_type": "markdown",
   "metadata": {},
   "source": [
    "Что будем делать:\n",
    "* отфильтруем НЕ покупки\n",
    "    * отфильтруем статусы **'unavailable' 'canceled'**\n",
    "    * остаем только заказы с подтвержденной опрлатой **order_approved_at**\n",
    "* сгругипруем по **customer_id** и **order_approved_at**\n",
    "* посчитаем количество записей\n",
    "* смежим с таблицей df_customers что бы с групировать по **customer_unique_id**\n",
    "* ссумируем сгруппированные строки "
   ]
  },
  {
   "cell_type": "code",
   "execution_count": 111,
   "metadata": {},
   "outputs": [],
   "source": [
    "# из описания данных поле order_approved_at это время подтверждения опраты\n",
    "# создаем колонку с меткой что оплата была получена\n",
    "df_orders['paid'] = ~df_orders.order_approved_at.isna()"
   ]
  },
  {
   "cell_type": "code",
   "execution_count": 112,
   "metadata": {},
   "outputs": [],
   "source": [
    "not_paid_statuses = ['unavailable' 'canceled']\n",
    "df_orders_by_month = df_orders \\\n",
    "    .query('paid & order_status not in @not_paid_statuses') \\\n",
    "    .groupby(by=['customer_id', pd.Grouper(key='order_approved_at', freq='M')]) \\\n",
    "    .agg({'order_id':'count'}) \\\n",
    "    .rename(columns={'order_id':'count_purchases'}) \\\n",
    "    .reset_index() \\\n",
    "    .merge(df_customers[['customer_id', 'customer_unique_id']], on='customer_id') \\\n",
    "    .groupby(by=['customer_unique_id', 'order_approved_at'], as_index=False) \\\n",
    "    .agg({'count_purchases': 'sum'}) \\\n",
    "    .sort_values(by=['count_purchases', 'order_approved_at'], ascending=False)"
   ]
  },
  {
   "cell_type": "code",
   "execution_count": 113,
   "metadata": {},
   "outputs": [
    {
     "data": {
      "text/html": [
       "<div>\n",
       "<style scoped>\n",
       "    .dataframe tbody tr th:only-of-type {\n",
       "        vertical-align: middle;\n",
       "    }\n",
       "\n",
       "    .dataframe tbody tr th {\n",
       "        vertical-align: top;\n",
       "    }\n",
       "\n",
       "    .dataframe thead th {\n",
       "        text-align: right;\n",
       "    }\n",
       "</style>\n",
       "<table border=\"1\" class=\"dataframe\">\n",
       "  <thead>\n",
       "    <tr style=\"text-align: right;\">\n",
       "      <th></th>\n",
       "      <th>customer_unique_id</th>\n",
       "      <th>order_approved_at</th>\n",
       "      <th>count_purchases</th>\n",
       "    </tr>\n",
       "  </thead>\n",
       "  <tbody>\n",
       "    <tr>\n",
       "      <th>7316</th>\n",
       "      <td>12f5d6e1cbf93dafd9dcc19095df0b3d</td>\n",
       "      <td>2017-01-31</td>\n",
       "      <td>6</td>\n",
       "    </tr>\n",
       "    <tr>\n",
       "      <th>76689</th>\n",
       "      <td>c8460e4251689ba205045f3ea17884a1</td>\n",
       "      <td>2018-08-31</td>\n",
       "      <td>4</td>\n",
       "    </tr>\n",
       "    <tr>\n",
       "      <th>23910</th>\n",
       "      <td>3e43e6105506432c953e165fb2acf44c</td>\n",
       "      <td>2018-02-28</td>\n",
       "      <td>4</td>\n",
       "    </tr>\n",
       "    <tr>\n",
       "      <th>69301</th>\n",
       "      <td>b4e4f24de1e8725b74e4a1f4975116ed</td>\n",
       "      <td>2018-02-28</td>\n",
       "      <td>4</td>\n",
       "    </tr>\n",
       "    <tr>\n",
       "      <th>67664</th>\n",
       "      <td>b08fab27d47a1eb6deda07bfd965ad43</td>\n",
       "      <td>2017-09-30</td>\n",
       "      <td>4</td>\n",
       "    </tr>\n",
       "  </tbody>\n",
       "</table>\n",
       "</div>"
      ],
      "text/plain": [
       "                     customer_unique_id order_approved_at  count_purchases\n",
       "7316   12f5d6e1cbf93dafd9dcc19095df0b3d        2017-01-31                6\n",
       "76689  c8460e4251689ba205045f3ea17884a1        2018-08-31                4\n",
       "23910  3e43e6105506432c953e165fb2acf44c        2018-02-28                4\n",
       "69301  b4e4f24de1e8725b74e4a1f4975116ed        2018-02-28                4\n",
       "67664  b08fab27d47a1eb6deda07bfd965ad43        2017-09-30                4"
      ]
     },
     "execution_count": 113,
     "metadata": {},
     "output_type": "execute_result"
    }
   ],
   "source": [
    "df_orders_by_month.head()"
   ]
  },
  {
   "cell_type": "markdown",
   "metadata": {},
   "source": [
    "## Проверим\n",
    "действительно ли получилось верное значение **count_purchases**\n",
    "Возьмем закащика с уникальным id *12f5d6e1cbf93dafd9dcc19095df0b3d* и посмотрм сколько заказов он сделал"
   ]
  },
  {
   "cell_type": "code",
   "execution_count": 114,
   "metadata": {},
   "outputs": [
    {
     "data": {
      "text/html": [
       "<div>\n",
       "<style scoped>\n",
       "    .dataframe tbody tr th:only-of-type {\n",
       "        vertical-align: middle;\n",
       "    }\n",
       "\n",
       "    .dataframe tbody tr th {\n",
       "        vertical-align: top;\n",
       "    }\n",
       "\n",
       "    .dataframe thead th {\n",
       "        text-align: right;\n",
       "    }\n",
       "</style>\n",
       "<table border=\"1\" class=\"dataframe\">\n",
       "  <thead>\n",
       "    <tr style=\"text-align: right;\">\n",
       "      <th></th>\n",
       "      <th>customer_id</th>\n",
       "      <th>customer_unique_id</th>\n",
       "      <th>customer_zip_code_prefix</th>\n",
       "      <th>customer_city</th>\n",
       "      <th>customer_state</th>\n",
       "    </tr>\n",
       "  </thead>\n",
       "  <tbody>\n",
       "    <tr>\n",
       "      <th>28432</th>\n",
       "      <td>6152d0774bbbf74f7140541c0569dafa</td>\n",
       "      <td>12f5d6e1cbf93dafd9dcc19095df0b3d</td>\n",
       "      <td>82200</td>\n",
       "      <td>curitiba</td>\n",
       "      <td>PR</td>\n",
       "    </tr>\n",
       "    <tr>\n",
       "      <th>35693</th>\n",
       "      <td>588047d7101d88c333691e47659d7099</td>\n",
       "      <td>12f5d6e1cbf93dafd9dcc19095df0b3d</td>\n",
       "      <td>82200</td>\n",
       "      <td>curitiba</td>\n",
       "      <td>PR</td>\n",
       "    </tr>\n",
       "    <tr>\n",
       "      <th>71569</th>\n",
       "      <td>c0352e94059e3e5a714c9ad0c8306a54</td>\n",
       "      <td>12f5d6e1cbf93dafd9dcc19095df0b3d</td>\n",
       "      <td>82200</td>\n",
       "      <td>curitiba</td>\n",
       "      <td>PR</td>\n",
       "    </tr>\n",
       "    <tr>\n",
       "      <th>89230</th>\n",
       "      <td>27129ce1ebca4ffa23a049c51cc8ec95</td>\n",
       "      <td>12f5d6e1cbf93dafd9dcc19095df0b3d</td>\n",
       "      <td>82200</td>\n",
       "      <td>curitiba</td>\n",
       "      <td>PR</td>\n",
       "    </tr>\n",
       "    <tr>\n",
       "      <th>97034</th>\n",
       "      <td>ed1793d2d1e4175d5846ce7ebb4a01f5</td>\n",
       "      <td>12f5d6e1cbf93dafd9dcc19095df0b3d</td>\n",
       "      <td>82200</td>\n",
       "      <td>curitiba</td>\n",
       "      <td>PR</td>\n",
       "    </tr>\n",
       "    <tr>\n",
       "      <th>98493</th>\n",
       "      <td>a969b9f8d923bc7fd97b578f7c499194</td>\n",
       "      <td>12f5d6e1cbf93dafd9dcc19095df0b3d</td>\n",
       "      <td>82200</td>\n",
       "      <td>curitiba</td>\n",
       "      <td>PR</td>\n",
       "    </tr>\n",
       "  </tbody>\n",
       "</table>\n",
       "</div>"
      ],
      "text/plain": [
       "                            customer_id                customer_unique_id  \\\n",
       "28432  6152d0774bbbf74f7140541c0569dafa  12f5d6e1cbf93dafd9dcc19095df0b3d   \n",
       "35693  588047d7101d88c333691e47659d7099  12f5d6e1cbf93dafd9dcc19095df0b3d   \n",
       "71569  c0352e94059e3e5a714c9ad0c8306a54  12f5d6e1cbf93dafd9dcc19095df0b3d   \n",
       "89230  27129ce1ebca4ffa23a049c51cc8ec95  12f5d6e1cbf93dafd9dcc19095df0b3d   \n",
       "97034  ed1793d2d1e4175d5846ce7ebb4a01f5  12f5d6e1cbf93dafd9dcc19095df0b3d   \n",
       "98493  a969b9f8d923bc7fd97b578f7c499194  12f5d6e1cbf93dafd9dcc19095df0b3d   \n",
       "\n",
       "       customer_zip_code_prefix customer_city customer_state  \n",
       "28432                     82200      curitiba             PR  \n",
       "35693                     82200      curitiba             PR  \n",
       "71569                     82200      curitiba             PR  \n",
       "89230                     82200      curitiba             PR  \n",
       "97034                     82200      curitiba             PR  \n",
       "98493                     82200      curitiba             PR  "
      ]
     },
     "execution_count": 114,
     "metadata": {},
     "output_type": "execute_result"
    }
   ],
   "source": [
    "df_customers.query('customer_unique_id == \"12f5d6e1cbf93dafd9dcc19095df0b3d\"')"
   ]
  },
  {
   "cell_type": "code",
   "execution_count": 115,
   "metadata": {},
   "outputs": [
    {
     "data": {
      "text/html": [
       "<div>\n",
       "<style scoped>\n",
       "    .dataframe tbody tr th:only-of-type {\n",
       "        vertical-align: middle;\n",
       "    }\n",
       "\n",
       "    .dataframe tbody tr th {\n",
       "        vertical-align: top;\n",
       "    }\n",
       "\n",
       "    .dataframe thead th {\n",
       "        text-align: right;\n",
       "    }\n",
       "</style>\n",
       "<table border=\"1\" class=\"dataframe\">\n",
       "  <thead>\n",
       "    <tr style=\"text-align: right;\">\n",
       "      <th></th>\n",
       "      <th>order_id</th>\n",
       "      <th>customer_id</th>\n",
       "      <th>order_status</th>\n",
       "      <th>order_purchase_timestamp</th>\n",
       "      <th>order_approved_at</th>\n",
       "      <th>order_delivered_carrier_date</th>\n",
       "      <th>order_delivered_customer_date</th>\n",
       "      <th>order_estimated_delivery_date</th>\n",
       "      <th>paid</th>\n",
       "    </tr>\n",
       "  </thead>\n",
       "  <tbody>\n",
       "    <tr>\n",
       "      <th>934</th>\n",
       "      <td>747996a66f5aa711deb8ae58f5ae46a0</td>\n",
       "      <td>ed1793d2d1e4175d5846ce7ebb4a01f5</td>\n",
       "      <td>delivered</td>\n",
       "      <td>2017-01-05 15:25:10</td>\n",
       "      <td>2017-01-07 03:44:28</td>\n",
       "      <td>2017-01-11 15:59:08</td>\n",
       "      <td>2017-01-16 15:18:08</td>\n",
       "      <td>2017-02-13</td>\n",
       "      <td>True</td>\n",
       "    </tr>\n",
       "    <tr>\n",
       "      <th>4715</th>\n",
       "      <td>9b91ddcbd6cbceb83d4fd2462ca1f95e</td>\n",
       "      <td>6152d0774bbbf74f7140541c0569dafa</td>\n",
       "      <td>delivered</td>\n",
       "      <td>2017-01-05 14:22:02</td>\n",
       "      <td>2017-01-07 03:44:09</td>\n",
       "      <td>2017-01-11 16:25:57</td>\n",
       "      <td>2017-01-16 16:32:52</td>\n",
       "      <td>2017-02-01</td>\n",
       "      <td>True</td>\n",
       "    </tr>\n",
       "    <tr>\n",
       "      <th>28014</th>\n",
       "      <td>464de32dc84484c1d26df3e8e38e708b</td>\n",
       "      <td>27129ce1ebca4ffa23a049c51cc8ec95</td>\n",
       "      <td>delivered</td>\n",
       "      <td>2017-01-05 15:25:04</td>\n",
       "      <td>2017-01-07 03:35:36</td>\n",
       "      <td>2017-01-11 15:59:08</td>\n",
       "      <td>2017-01-17 16:09:40</td>\n",
       "      <td>2017-02-13</td>\n",
       "      <td>True</td>\n",
       "    </tr>\n",
       "    <tr>\n",
       "      <th>35818</th>\n",
       "      <td>17fed53ba6dfef9b594ee2268642e2aa</td>\n",
       "      <td>c0352e94059e3e5a714c9ad0c8306a54</td>\n",
       "      <td>delivered</td>\n",
       "      <td>2017-01-05 14:50:54</td>\n",
       "      <td>2017-01-07 03:35:35</td>\n",
       "      <td>2017-01-11 15:59:08</td>\n",
       "      <td>2017-01-16 15:24:03</td>\n",
       "      <td>2017-02-13</td>\n",
       "      <td>True</td>\n",
       "    </tr>\n",
       "    <tr>\n",
       "      <th>81491</th>\n",
       "      <td>ca5a215980675471f0cf8199c041909a</td>\n",
       "      <td>588047d7101d88c333691e47659d7099</td>\n",
       "      <td>delivered</td>\n",
       "      <td>2017-01-05 14:23:54</td>\n",
       "      <td>2017-01-07 03:44:16</td>\n",
       "      <td>2017-01-11 15:37:55</td>\n",
       "      <td>2017-01-17 15:14:20</td>\n",
       "      <td>2017-02-01</td>\n",
       "      <td>True</td>\n",
       "    </tr>\n",
       "    <tr>\n",
       "      <th>82436</th>\n",
       "      <td>8a784d47854e4cbc5562362393d504db</td>\n",
       "      <td>a969b9f8d923bc7fd97b578f7c499194</td>\n",
       "      <td>delivered</td>\n",
       "      <td>2017-01-05 14:18:03</td>\n",
       "      <td>2017-01-07 03:44:16</td>\n",
       "      <td>2017-01-11 16:08:56</td>\n",
       "      <td>2017-01-17 16:47:45</td>\n",
       "      <td>2017-02-13</td>\n",
       "      <td>True</td>\n",
       "    </tr>\n",
       "  </tbody>\n",
       "</table>\n",
       "</div>"
      ],
      "text/plain": [
       "                               order_id                       customer_id  \\\n",
       "934    747996a66f5aa711deb8ae58f5ae46a0  ed1793d2d1e4175d5846ce7ebb4a01f5   \n",
       "4715   9b91ddcbd6cbceb83d4fd2462ca1f95e  6152d0774bbbf74f7140541c0569dafa   \n",
       "28014  464de32dc84484c1d26df3e8e38e708b  27129ce1ebca4ffa23a049c51cc8ec95   \n",
       "35818  17fed53ba6dfef9b594ee2268642e2aa  c0352e94059e3e5a714c9ad0c8306a54   \n",
       "81491  ca5a215980675471f0cf8199c041909a  588047d7101d88c333691e47659d7099   \n",
       "82436  8a784d47854e4cbc5562362393d504db  a969b9f8d923bc7fd97b578f7c499194   \n",
       "\n",
       "      order_status order_purchase_timestamp   order_approved_at  \\\n",
       "934      delivered      2017-01-05 15:25:10 2017-01-07 03:44:28   \n",
       "4715     delivered      2017-01-05 14:22:02 2017-01-07 03:44:09   \n",
       "28014    delivered      2017-01-05 15:25:04 2017-01-07 03:35:36   \n",
       "35818    delivered      2017-01-05 14:50:54 2017-01-07 03:35:35   \n",
       "81491    delivered      2017-01-05 14:23:54 2017-01-07 03:44:16   \n",
       "82436    delivered      2017-01-05 14:18:03 2017-01-07 03:44:16   \n",
       "\n",
       "      order_delivered_carrier_date order_delivered_customer_date  \\\n",
       "934            2017-01-11 15:59:08           2017-01-16 15:18:08   \n",
       "4715           2017-01-11 16:25:57           2017-01-16 16:32:52   \n",
       "28014          2017-01-11 15:59:08           2017-01-17 16:09:40   \n",
       "35818          2017-01-11 15:59:08           2017-01-16 15:24:03   \n",
       "81491          2017-01-11 15:37:55           2017-01-17 15:14:20   \n",
       "82436          2017-01-11 16:08:56           2017-01-17 16:47:45   \n",
       "\n",
       "      order_estimated_delivery_date  paid  \n",
       "934                      2017-02-13  True  \n",
       "4715                     2017-02-01  True  \n",
       "28014                    2017-02-13  True  \n",
       "35818                    2017-02-13  True  \n",
       "81491                    2017-02-01  True  \n",
       "82436                    2017-02-13  True  "
      ]
     },
     "execution_count": 115,
     "metadata": {},
     "output_type": "execute_result"
    }
   ],
   "source": [
    "customers = df_customers.query('customer_unique_id == \"12f5d6e1cbf93dafd9dcc19095df0b3d\"').customer_id.to_list()\n",
    "df_orders.query('customer_id in @customers')"
   ]
  },
  {
   "cell_type": "markdown",
   "metadata": {},
   "source": [
    "Данные сошлись 6 покупок в одном месяце"
   ]
  },
  {
   "cell_type": "markdown",
   "metadata": {},
   "source": [
    "## Cреднее за неделю"
   ]
  },
  {
   "cell_type": "code",
   "execution_count": 116,
   "metadata": {},
   "outputs": [],
   "source": [
    "# количество недель в месяце посчитаем так: df_orders_by_month.order_approved_at.dt.days_in_month / 7\n",
    "df_orders_by_month['week_mean'] = df_orders_by_month.count_purchases / (df_orders_by_month.order_approved_at.dt.days_in_month / 7)"
   ]
  },
  {
   "cell_type": "code",
   "execution_count": 117,
   "metadata": {},
   "outputs": [
    {
     "data": {
      "text/html": [
       "<div>\n",
       "<style scoped>\n",
       "    .dataframe tbody tr th:only-of-type {\n",
       "        vertical-align: middle;\n",
       "    }\n",
       "\n",
       "    .dataframe tbody tr th {\n",
       "        vertical-align: top;\n",
       "    }\n",
       "\n",
       "    .dataframe thead th {\n",
       "        text-align: right;\n",
       "    }\n",
       "</style>\n",
       "<table border=\"1\" class=\"dataframe\">\n",
       "  <thead>\n",
       "    <tr style=\"text-align: right;\">\n",
       "      <th></th>\n",
       "      <th>customer_unique_id</th>\n",
       "      <th>order_approved_at</th>\n",
       "      <th>count_purchases</th>\n",
       "      <th>week_mean</th>\n",
       "    </tr>\n",
       "  </thead>\n",
       "  <tbody>\n",
       "    <tr>\n",
       "      <th>7316</th>\n",
       "      <td>12f5d6e1cbf93dafd9dcc19095df0b3d</td>\n",
       "      <td>2017-01-31</td>\n",
       "      <td>6</td>\n",
       "      <td>1.354839</td>\n",
       "    </tr>\n",
       "    <tr>\n",
       "      <th>76689</th>\n",
       "      <td>c8460e4251689ba205045f3ea17884a1</td>\n",
       "      <td>2018-08-31</td>\n",
       "      <td>4</td>\n",
       "      <td>0.903226</td>\n",
       "    </tr>\n",
       "    <tr>\n",
       "      <th>23910</th>\n",
       "      <td>3e43e6105506432c953e165fb2acf44c</td>\n",
       "      <td>2018-02-28</td>\n",
       "      <td>4</td>\n",
       "      <td>1.000000</td>\n",
       "    </tr>\n",
       "    <tr>\n",
       "      <th>69301</th>\n",
       "      <td>b4e4f24de1e8725b74e4a1f4975116ed</td>\n",
       "      <td>2018-02-28</td>\n",
       "      <td>4</td>\n",
       "      <td>1.000000</td>\n",
       "    </tr>\n",
       "    <tr>\n",
       "      <th>67664</th>\n",
       "      <td>b08fab27d47a1eb6deda07bfd965ad43</td>\n",
       "      <td>2017-09-30</td>\n",
       "      <td>4</td>\n",
       "      <td>0.933333</td>\n",
       "    </tr>\n",
       "  </tbody>\n",
       "</table>\n",
       "</div>"
      ],
      "text/plain": [
       "                     customer_unique_id order_approved_at  count_purchases  \\\n",
       "7316   12f5d6e1cbf93dafd9dcc19095df0b3d        2017-01-31                6   \n",
       "76689  c8460e4251689ba205045f3ea17884a1        2018-08-31                4   \n",
       "23910  3e43e6105506432c953e165fb2acf44c        2018-02-28                4   \n",
       "69301  b4e4f24de1e8725b74e4a1f4975116ed        2018-02-28                4   \n",
       "67664  b08fab27d47a1eb6deda07bfd965ad43        2017-09-30                4   \n",
       "\n",
       "       week_mean  \n",
       "7316    1.354839  \n",
       "76689   0.903226  \n",
       "23910   1.000000  \n",
       "69301   1.000000  \n",
       "67664   0.933333  "
      ]
     },
     "execution_count": 117,
     "metadata": {},
     "output_type": "execute_result"
    }
   ],
   "source": [
    "df_orders_by_month.head()"
   ]
  },
  {
   "cell_type": "markdown",
   "metadata": {},
   "source": [
    "## Построим график\n",
    "\n",
    "* округлим расчитанное среднее\n",
    "* подсчитаем количество\n",
    "* судя по предыдущим исследования будет много клиентов с 1одной покупкой поэтому добавим log scale"
   ]
  },
  {
   "cell_type": "code",
   "execution_count": 118,
   "metadata": {},
   "outputs": [],
   "source": [
    "df_week_mean_dist = df_orders_by_month.week_mean \\\n",
    "    .round(2) \\\n",
    "    .value_counts() \\\n",
    "    .reset_index() \\\n",
    "    .rename(columns={'week_mean':'counts', 'index':'week_mean'})"
   ]
  },
  {
   "cell_type": "code",
   "execution_count": 119,
   "metadata": {},
   "outputs": [],
   "source": [
    "df_week_mean_dist['log_counts'] = np.log(df_week_mean_dist.counts)"
   ]
  },
  {
   "cell_type": "code",
   "execution_count": 120,
   "metadata": {},
   "outputs": [
    {
     "data": {
      "text/html": [
       "<div>\n",
       "<style scoped>\n",
       "    .dataframe tbody tr th:only-of-type {\n",
       "        vertical-align: middle;\n",
       "    }\n",
       "\n",
       "    .dataframe tbody tr th {\n",
       "        vertical-align: top;\n",
       "    }\n",
       "\n",
       "    .dataframe thead th {\n",
       "        text-align: right;\n",
       "    }\n",
       "</style>\n",
       "<table border=\"1\" class=\"dataframe\">\n",
       "  <thead>\n",
       "    <tr style=\"text-align: right;\">\n",
       "      <th></th>\n",
       "      <th>week_mean</th>\n",
       "      <th>counts</th>\n",
       "      <th>log_counts</th>\n",
       "    </tr>\n",
       "  </thead>\n",
       "  <tbody>\n",
       "    <tr>\n",
       "      <th>0</th>\n",
       "      <td>0.23</td>\n",
       "      <td>88494</td>\n",
       "      <td>11.390690</td>\n",
       "    </tr>\n",
       "    <tr>\n",
       "      <th>1</th>\n",
       "      <td>0.25</td>\n",
       "      <td>8115</td>\n",
       "      <td>9.001469</td>\n",
       "    </tr>\n",
       "    <tr>\n",
       "      <th>2</th>\n",
       "      <td>0.45</td>\n",
       "      <td>743</td>\n",
       "      <td>6.610696</td>\n",
       "    </tr>\n",
       "    <tr>\n",
       "      <th>3</th>\n",
       "      <td>0.47</td>\n",
       "      <td>341</td>\n",
       "      <td>5.831882</td>\n",
       "    </tr>\n",
       "    <tr>\n",
       "      <th>4</th>\n",
       "      <td>0.50</td>\n",
       "      <td>163</td>\n",
       "      <td>5.093750</td>\n",
       "    </tr>\n",
       "    <tr>\n",
       "      <th>5</th>\n",
       "      <td>0.68</td>\n",
       "      <td>29</td>\n",
       "      <td>3.367296</td>\n",
       "    </tr>\n",
       "    <tr>\n",
       "      <th>6</th>\n",
       "      <td>0.70</td>\n",
       "      <td>13</td>\n",
       "      <td>2.564949</td>\n",
       "    </tr>\n",
       "    <tr>\n",
       "      <th>7</th>\n",
       "      <td>0.75</td>\n",
       "      <td>6</td>\n",
       "      <td>1.791759</td>\n",
       "    </tr>\n",
       "    <tr>\n",
       "      <th>8</th>\n",
       "      <td>1.00</td>\n",
       "      <td>3</td>\n",
       "      <td>1.098612</td>\n",
       "    </tr>\n",
       "    <tr>\n",
       "      <th>9</th>\n",
       "      <td>0.90</td>\n",
       "      <td>2</td>\n",
       "      <td>0.693147</td>\n",
       "    </tr>\n",
       "    <tr>\n",
       "      <th>10</th>\n",
       "      <td>0.93</td>\n",
       "      <td>2</td>\n",
       "      <td>0.693147</td>\n",
       "    </tr>\n",
       "    <tr>\n",
       "      <th>11</th>\n",
       "      <td>1.35</td>\n",
       "      <td>1</td>\n",
       "      <td>0.000000</td>\n",
       "    </tr>\n",
       "  </tbody>\n",
       "</table>\n",
       "</div>"
      ],
      "text/plain": [
       "    week_mean  counts  log_counts\n",
       "0        0.23   88494   11.390690\n",
       "1        0.25    8115    9.001469\n",
       "2        0.45     743    6.610696\n",
       "3        0.47     341    5.831882\n",
       "4        0.50     163    5.093750\n",
       "5        0.68      29    3.367296\n",
       "6        0.70      13    2.564949\n",
       "7        0.75       6    1.791759\n",
       "8        1.00       3    1.098612\n",
       "9        0.90       2    0.693147\n",
       "10       0.93       2    0.693147\n",
       "11       1.35       1    0.000000"
      ]
     },
     "execution_count": 120,
     "metadata": {},
     "output_type": "execute_result"
    }
   ],
   "source": [
    "df_week_mean_dist"
   ]
  },
  {
   "cell_type": "code",
   "execution_count": 629,
   "metadata": {},
   "outputs": [
    {
     "data": {
      "image/png": "[encoded data removed]",
      "text/plain": [
       "<Figure size 1440x720 with 2 Axes>"
      ]
     },
     "metadata": {},
     "output_type": "display_data"
    }
   ],
   "source": [
    "# создаем график состящий из двух частей\n",
    "sns.set(style=\"whitegrid\")\n",
    "\n",
    "fig, axs = plt.subplots(nrows=2)\n",
    "fig.set_figwidth(20)\n",
    "fig.set_figheight(10)\n",
    " \n",
    "# отрисовываем данные\n",
    "clrs_origin = [our_palette['default'] if (x < df_week_mean_dist.counts.max()) else our_palette['max'] for x in df_week_mean_dist.counts ]\n",
    "clrs_log = [our_palette['default'] if (x < df_week_mean_dist.log_counts.max()) else our_palette['max'] for x in df_week_mean_dist.log_counts ]\n",
    "\n",
    "ax = sns.barplot(data=df_week_mean_dist, x='week_mean', y='counts', color='b', ax=axs[0], palette=clrs_origin)\n",
    "ax = sns.barplot(data=df_week_mean_dist, x='week_mean', y='log_counts', color='r', ax=axs[1], palette=clrs_log)\n",
    "\n",
    "axs[0].set_title('Распределение средних покупок в неделю')\n",
    "axs[0].title.set_fontsize(20)\n",
    "\n",
    "# показываем\n",
    "plt.show()"
   ]
  },
  {
   "cell_type": "markdown",
   "metadata": {},
   "source": [
    "## Вывод\n",
    "\n",
    "* Основу составляют клиенты с **1** покупкой в месяц (или **0.23-0.25** в неделю)\n",
    "* есть **1** клиент который совершил **6** покупок (или **1.35** в неделю)"
   ]
  },
  {
   "cell_type": "markdown",
   "metadata": {},
   "source": [
    "# Вопрос 5.\n",
    "Используя pandas, проведи когортный анализ пользователей. В период с января по декабрь выяви когорту с самым высоким retention на 3й месяц. Описание подхода можно найти <a href=\"https://vc.ru/s/productstar/134090-chto-takoe-kogortnyy-analiz\" target=\"_blank\">тут</a>. (10 баллов)"
   ]
  },
  {
   "cell_type": "markdown",
   "metadata": {},
   "source": [
    "Что будем делать:\n",
    "* подготовим датасет:\n",
    "    * **df_orders** отфильруем по **order_status**\n",
    "    * из **df_orders** возьмем только нужные колонки\n",
    "    * смержим **df_orders** и **df_customers**\n",
    "* создадим колонку **purchase_month**\n",
    "* создадим колонку **first_purchase_month**\n",
    "* создадим колонку **retantion_idx** с разницей в месяцах между **purchase_month** и **first_purchase_month**\n",
    "* посчитаем **retantion** для каждого **retantion_idx** и **purchase_month**"
   ]
  },
  {
   "cell_type": "markdown",
   "metadata": {},
   "source": [
    "Подготовим датасет"
   ]
  },
  {
   "cell_type": "code",
   "execution_count": 122,
   "metadata": {},
   "outputs": [],
   "source": [
    "not_paid_statuses = ['unavailable' 'canceled']\n",
    "interested_columns = ['customer_id', 'order_purchase_timestamp']\n",
    "\n",
    "df_co_cohorts = df_orders.query('order_status not in @not_paid_statuses')[interested_columns]\\\n",
    "    .merge(df_customers, on='customer_id') \\\n",
    "    .drop(columns=['customer_id'])"
   ]
  },
  {
   "cell_type": "code",
   "execution_count": 123,
   "metadata": {},
   "outputs": [
    {
     "data": {
      "text/html": [
       "<div>\n",
       "<style scoped>\n",
       "    .dataframe tbody tr th:only-of-type {\n",
       "        vertical-align: middle;\n",
       "    }\n",
       "\n",
       "    .dataframe tbody tr th {\n",
       "        vertical-align: top;\n",
       "    }\n",
       "\n",
       "    .dataframe thead th {\n",
       "        text-align: right;\n",
       "    }\n",
       "</style>\n",
       "<table border=\"1\" class=\"dataframe\">\n",
       "  <thead>\n",
       "    <tr style=\"text-align: right;\">\n",
       "      <th></th>\n",
       "      <th>order_purchase_timestamp</th>\n",
       "      <th>customer_unique_id</th>\n",
       "      <th>customer_zip_code_prefix</th>\n",
       "      <th>customer_city</th>\n",
       "      <th>customer_state</th>\n",
       "    </tr>\n",
       "  </thead>\n",
       "  <tbody>\n",
       "    <tr>\n",
       "      <th>0</th>\n",
       "      <td>2017-10-02 10:56:33</td>\n",
       "      <td>7c396fd4830fd04220f754e42b4e5bff</td>\n",
       "      <td>3149</td>\n",
       "      <td>sao paulo</td>\n",
       "      <td>SP</td>\n",
       "    </tr>\n",
       "    <tr>\n",
       "      <th>1</th>\n",
       "      <td>2018-07-24 20:41:37</td>\n",
       "      <td>af07308b275d755c9edb36a90c618231</td>\n",
       "      <td>47813</td>\n",
       "      <td>barreiras</td>\n",
       "      <td>BA</td>\n",
       "    </tr>\n",
       "    <tr>\n",
       "      <th>2</th>\n",
       "      <td>2018-08-08 08:38:49</td>\n",
       "      <td>3a653a41f6f9fc3d2a113cf8398680e8</td>\n",
       "      <td>75265</td>\n",
       "      <td>vianopolis</td>\n",
       "      <td>GO</td>\n",
       "    </tr>\n",
       "    <tr>\n",
       "      <th>3</th>\n",
       "      <td>2017-11-18 19:28:06</td>\n",
       "      <td>7c142cf63193a1473d2e66489a9ae977</td>\n",
       "      <td>59296</td>\n",
       "      <td>sao goncalo do amarante</td>\n",
       "      <td>RN</td>\n",
       "    </tr>\n",
       "    <tr>\n",
       "      <th>4</th>\n",
       "      <td>2018-02-13 21:18:39</td>\n",
       "      <td>72632f0f9dd73dfee390c9b22eb56dd6</td>\n",
       "      <td>9195</td>\n",
       "      <td>santo andre</td>\n",
       "      <td>SP</td>\n",
       "    </tr>\n",
       "  </tbody>\n",
       "</table>\n",
       "</div>"
      ],
      "text/plain": [
       "  order_purchase_timestamp                customer_unique_id  \\\n",
       "0      2017-10-02 10:56:33  7c396fd4830fd04220f754e42b4e5bff   \n",
       "1      2018-07-24 20:41:37  af07308b275d755c9edb36a90c618231   \n",
       "2      2018-08-08 08:38:49  3a653a41f6f9fc3d2a113cf8398680e8   \n",
       "3      2017-11-18 19:28:06  7c142cf63193a1473d2e66489a9ae977   \n",
       "4      2018-02-13 21:18:39  72632f0f9dd73dfee390c9b22eb56dd6   \n",
       "\n",
       "   customer_zip_code_prefix            customer_city customer_state  \n",
       "0                      3149                sao paulo             SP  \n",
       "1                     47813                barreiras             BA  \n",
       "2                     75265               vianopolis             GO  \n",
       "3                     59296  sao goncalo do amarante             RN  \n",
       "4                      9195              santo andre             SP  "
      ]
     },
     "execution_count": 123,
     "metadata": {},
     "output_type": "execute_result"
    }
   ],
   "source": [
    "df_co_cohorts.head()"
   ]
  },
  {
   "cell_type": "markdown",
   "metadata": {},
   "source": [
    "Cоздадим колонку **purchase_month**"
   ]
  },
  {
   "cell_type": "code",
   "execution_count": 124,
   "metadata": {},
   "outputs": [],
   "source": [
    "df_co_cohorts['purchase_month'] = df_co_cohorts.order_purchase_timestamp.dt.to_period('M').dt.to_timestamp()"
   ]
  },
  {
   "cell_type": "code",
   "execution_count": 125,
   "metadata": {},
   "outputs": [
    {
     "data": {
      "text/plain": [
       "y\n",
       "2016     3\n",
       "2017    12\n",
       "2018    10\n",
       "Name: m, dtype: int64"
      ]
     },
     "execution_count": 125,
     "metadata": {},
     "output_type": "execute_result"
    }
   ],
   "source": [
    "# сколько у нас есть месецев в каждом году? и какой год выбрать для следующего шага?\n",
    "pd.DataFrame({\n",
    "    'y': df_co_cohorts.purchase_month.dt.year,\n",
    "    'm': df_co_cohorts.purchase_month.dt.month\n",
    "}).groupby('y').m.nunique()"
   ]
  },
  {
   "cell_type": "markdown",
   "metadata": {},
   "source": [
    "Фильтруем по условию с января по декабрь"
   ]
  },
  {
   "cell_type": "code",
   "execution_count": 126,
   "metadata": {},
   "outputs": [],
   "source": [
    "df_co_cohorts = df_co_cohorts.query('purchase_month >= \"2017-01-01\" and purchase_month <= \"2017-12-01\"')"
   ]
  },
  {
   "cell_type": "markdown",
   "metadata": {},
   "source": [
    "Cоздадим колонку **first_purchase_month**"
   ]
  },
  {
   "cell_type": "code",
   "execution_count": 127,
   "metadata": {},
   "outputs": [],
   "source": [
    "df_co_cohorts['first_purchase_month'] = df_co_cohorts.groupby(by='customer_unique_id').purchase_month.transform('min')"
   ]
  },
  {
   "cell_type": "code",
   "execution_count": 128,
   "metadata": {},
   "outputs": [],
   "source": [
    "df_co_cohorts = df_co_cohorts.drop(columns=['order_purchase_timestamp'])"
   ]
  },
  {
   "cell_type": "code",
   "execution_count": 129,
   "metadata": {},
   "outputs": [
    {
     "data": {
      "text/html": [
       "<div>\n",
       "<style scoped>\n",
       "    .dataframe tbody tr th:only-of-type {\n",
       "        vertical-align: middle;\n",
       "    }\n",
       "\n",
       "    .dataframe tbody tr th {\n",
       "        vertical-align: top;\n",
       "    }\n",
       "\n",
       "    .dataframe thead th {\n",
       "        text-align: right;\n",
       "    }\n",
       "</style>\n",
       "<table border=\"1\" class=\"dataframe\">\n",
       "  <thead>\n",
       "    <tr style=\"text-align: right;\">\n",
       "      <th></th>\n",
       "      <th>customer_unique_id</th>\n",
       "      <th>customer_zip_code_prefix</th>\n",
       "      <th>customer_city</th>\n",
       "      <th>customer_state</th>\n",
       "      <th>purchase_month</th>\n",
       "      <th>first_purchase_month</th>\n",
       "    </tr>\n",
       "  </thead>\n",
       "  <tbody>\n",
       "    <tr>\n",
       "      <th>0</th>\n",
       "      <td>7c396fd4830fd04220f754e42b4e5bff</td>\n",
       "      <td>3149</td>\n",
       "      <td>sao paulo</td>\n",
       "      <td>SP</td>\n",
       "      <td>2017-10-01</td>\n",
       "      <td>2017-09-01</td>\n",
       "    </tr>\n",
       "    <tr>\n",
       "      <th>3</th>\n",
       "      <td>7c142cf63193a1473d2e66489a9ae977</td>\n",
       "      <td>59296</td>\n",
       "      <td>sao goncalo do amarante</td>\n",
       "      <td>RN</td>\n",
       "      <td>2017-11-01</td>\n",
       "      <td>2017-11-01</td>\n",
       "    </tr>\n",
       "    <tr>\n",
       "      <th>5</th>\n",
       "      <td>80bb27c7c16e8f973207a5086ab329e2</td>\n",
       "      <td>86320</td>\n",
       "      <td>congonhinhas</td>\n",
       "      <td>PR</td>\n",
       "      <td>2017-07-01</td>\n",
       "      <td>2017-07-01</td>\n",
       "    </tr>\n",
       "    <tr>\n",
       "      <th>6</th>\n",
       "      <td>36edbb3fb164b1f16485364b6fb04c73</td>\n",
       "      <td>98900</td>\n",
       "      <td>santa rosa</td>\n",
       "      <td>RS</td>\n",
       "      <td>2017-04-01</td>\n",
       "      <td>2017-04-01</td>\n",
       "    </tr>\n",
       "    <tr>\n",
       "      <th>7</th>\n",
       "      <td>932afa1e708222e5821dac9cd5db4cae</td>\n",
       "      <td>26525</td>\n",
       "      <td>nilopolis</td>\n",
       "      <td>RJ</td>\n",
       "      <td>2017-05-01</td>\n",
       "      <td>2017-05-01</td>\n",
       "    </tr>\n",
       "  </tbody>\n",
       "</table>\n",
       "</div>"
      ],
      "text/plain": [
       "                 customer_unique_id  customer_zip_code_prefix  \\\n",
       "0  7c396fd4830fd04220f754e42b4e5bff                      3149   \n",
       "3  7c142cf63193a1473d2e66489a9ae977                     59296   \n",
       "5  80bb27c7c16e8f973207a5086ab329e2                     86320   \n",
       "6  36edbb3fb164b1f16485364b6fb04c73                     98900   \n",
       "7  932afa1e708222e5821dac9cd5db4cae                     26525   \n",
       "\n",
       "             customer_city customer_state purchase_month first_purchase_month  \n",
       "0                sao paulo             SP     2017-10-01           2017-09-01  \n",
       "3  sao goncalo do amarante             RN     2017-11-01           2017-11-01  \n",
       "5             congonhinhas             PR     2017-07-01           2017-07-01  \n",
       "6               santa rosa             RS     2017-04-01           2017-04-01  \n",
       "7                nilopolis             RJ     2017-05-01           2017-05-01  "
      ]
     },
     "execution_count": 129,
     "metadata": {},
     "output_type": "execute_result"
    }
   ],
   "source": [
    "df_co_cohorts.head()"
   ]
  },
  {
   "cell_type": "markdown",
   "metadata": {},
   "source": [
    "Cоздадим колонку **cohort_idx** с разницей в месяцах между **purchase_month** и **first_purchase_month**"
   ]
  },
  {
   "cell_type": "code",
   "execution_count": 130,
   "metadata": {},
   "outputs": [],
   "source": [
    "def diff_in_month(dt1 : pd.Series, dt2 : pd.Series):\n",
    "    return ((dt1.dt.year - dt2.dt.year) * 12 + dt1.dt.month - dt2.dt.month) + 1"
   ]
  },
  {
   "cell_type": "code",
   "execution_count": 131,
   "metadata": {},
   "outputs": [],
   "source": [
    "df_co_cohorts['retantion_idx'] = diff_in_month(df_co_cohorts.purchase_month, df_co_cohorts.first_purchase_month)"
   ]
  },
  {
   "cell_type": "code",
   "execution_count": 132,
   "metadata": {},
   "outputs": [
    {
     "data": {
      "text/html": [
       "<div>\n",
       "<style scoped>\n",
       "    .dataframe tbody tr th:only-of-type {\n",
       "        vertical-align: middle;\n",
       "    }\n",
       "\n",
       "    .dataframe tbody tr th {\n",
       "        vertical-align: top;\n",
       "    }\n",
       "\n",
       "    .dataframe thead th {\n",
       "        text-align: right;\n",
       "    }\n",
       "</style>\n",
       "<table border=\"1\" class=\"dataframe\">\n",
       "  <thead>\n",
       "    <tr style=\"text-align: right;\">\n",
       "      <th></th>\n",
       "      <th>customer_unique_id</th>\n",
       "      <th>customer_zip_code_prefix</th>\n",
       "      <th>customer_city</th>\n",
       "      <th>customer_state</th>\n",
       "      <th>purchase_month</th>\n",
       "      <th>first_purchase_month</th>\n",
       "      <th>retantion_idx</th>\n",
       "    </tr>\n",
       "  </thead>\n",
       "  <tbody>\n",
       "    <tr>\n",
       "      <th>0</th>\n",
       "      <td>7c396fd4830fd04220f754e42b4e5bff</td>\n",
       "      <td>3149</td>\n",
       "      <td>sao paulo</td>\n",
       "      <td>SP</td>\n",
       "      <td>2017-10-01</td>\n",
       "      <td>2017-09-01</td>\n",
       "      <td>2</td>\n",
       "    </tr>\n",
       "    <tr>\n",
       "      <th>3</th>\n",
       "      <td>7c142cf63193a1473d2e66489a9ae977</td>\n",
       "      <td>59296</td>\n",
       "      <td>sao goncalo do amarante</td>\n",
       "      <td>RN</td>\n",
       "      <td>2017-11-01</td>\n",
       "      <td>2017-11-01</td>\n",
       "      <td>1</td>\n",
       "    </tr>\n",
       "    <tr>\n",
       "      <th>5</th>\n",
       "      <td>80bb27c7c16e8f973207a5086ab329e2</td>\n",
       "      <td>86320</td>\n",
       "      <td>congonhinhas</td>\n",
       "      <td>PR</td>\n",
       "      <td>2017-07-01</td>\n",
       "      <td>2017-07-01</td>\n",
       "      <td>1</td>\n",
       "    </tr>\n",
       "    <tr>\n",
       "      <th>6</th>\n",
       "      <td>36edbb3fb164b1f16485364b6fb04c73</td>\n",
       "      <td>98900</td>\n",
       "      <td>santa rosa</td>\n",
       "      <td>RS</td>\n",
       "      <td>2017-04-01</td>\n",
       "      <td>2017-04-01</td>\n",
       "      <td>1</td>\n",
       "    </tr>\n",
       "    <tr>\n",
       "      <th>7</th>\n",
       "      <td>932afa1e708222e5821dac9cd5db4cae</td>\n",
       "      <td>26525</td>\n",
       "      <td>nilopolis</td>\n",
       "      <td>RJ</td>\n",
       "      <td>2017-05-01</td>\n",
       "      <td>2017-05-01</td>\n",
       "      <td>1</td>\n",
       "    </tr>\n",
       "  </tbody>\n",
       "</table>\n",
       "</div>"
      ],
      "text/plain": [
       "                 customer_unique_id  customer_zip_code_prefix  \\\n",
       "0  7c396fd4830fd04220f754e42b4e5bff                      3149   \n",
       "3  7c142cf63193a1473d2e66489a9ae977                     59296   \n",
       "5  80bb27c7c16e8f973207a5086ab329e2                     86320   \n",
       "6  36edbb3fb164b1f16485364b6fb04c73                     98900   \n",
       "7  932afa1e708222e5821dac9cd5db4cae                     26525   \n",
       "\n",
       "             customer_city customer_state purchase_month first_purchase_month  \\\n",
       "0                sao paulo             SP     2017-10-01           2017-09-01   \n",
       "3  sao goncalo do amarante             RN     2017-11-01           2017-11-01   \n",
       "5             congonhinhas             PR     2017-07-01           2017-07-01   \n",
       "6               santa rosa             RS     2017-04-01           2017-04-01   \n",
       "7                nilopolis             RJ     2017-05-01           2017-05-01   \n",
       "\n",
       "   retantion_idx  \n",
       "0              2  \n",
       "3              1  \n",
       "5              1  \n",
       "6              1  \n",
       "7              1  "
      ]
     },
     "execution_count": 132,
     "metadata": {},
     "output_type": "execute_result"
    }
   ],
   "source": [
    "df_co_cohorts.head()"
   ]
  },
  {
   "cell_type": "markdown",
   "metadata": {},
   "source": [
    "Посчитаем **retantion** для каждого **cohort_idx** и **purchase_month**"
   ]
  },
  {
   "cell_type": "code",
   "execution_count": 133,
   "metadata": {},
   "outputs": [],
   "source": [
    "def get_cohort(df, agg_column, func=pd.Series.nunique):\n",
    "    # группируем по какогртной переменной и по retantion_idx\n",
    "    df_activity = df.groupby(['first_purchase_month', 'retantion_idx'])[agg_column].apply(func).reset_index()\n",
    "\n",
    "    df_activity['first_purchase_month'] = df_activity.first_purchase_month.dt.strftime('%Y-%m')\n",
    "\n",
    "    # поворачиваем таблицу\n",
    "    df_activity = df_activity.pivot_table(\n",
    "        index = 'first_purchase_month',\n",
    "        columns = 'retantion_idx',\n",
    "        values = agg_column)\n",
    "\n",
    "    # в первой колонке находятся максимальные величины\n",
    "    max_activiy = df_activity.iloc[:,0]\n",
    "\n",
    "    retention = df_activity.divide(max_activiy, axis = 0).mul(100).round(2)\n",
    "\n",
    "    return retention"
   ]
  },
  {
   "cell_type": "code",
   "execution_count": 134,
   "metadata": {},
   "outputs": [],
   "source": [
    "retantion = get_cohort(df_co_cohorts, 'customer_unique_id', func=pd.Series.nunique)"
   ]
  },
  {
   "cell_type": "code",
   "execution_count": 135,
   "metadata": {},
   "outputs": [
    {
     "data": {
      "text/html": [
       "<div>\n",
       "<style scoped>\n",
       "    .dataframe tbody tr th:only-of-type {\n",
       "        vertical-align: middle;\n",
       "    }\n",
       "\n",
       "    .dataframe tbody tr th {\n",
       "        vertical-align: top;\n",
       "    }\n",
       "\n",
       "    .dataframe thead th {\n",
       "        text-align: right;\n",
       "    }\n",
       "</style>\n",
       "<table border=\"1\" class=\"dataframe\">\n",
       "  <thead>\n",
       "    <tr style=\"text-align: right;\">\n",
       "      <th>retantion_idx</th>\n",
       "      <th>1</th>\n",
       "      <th>2</th>\n",
       "      <th>3</th>\n",
       "      <th>4</th>\n",
       "      <th>5</th>\n",
       "      <th>6</th>\n",
       "      <th>7</th>\n",
       "      <th>8</th>\n",
       "      <th>9</th>\n",
       "      <th>10</th>\n",
       "      <th>11</th>\n",
       "      <th>12</th>\n",
       "    </tr>\n",
       "    <tr>\n",
       "      <th>first_purchase_month</th>\n",
       "      <th></th>\n",
       "      <th></th>\n",
       "      <th></th>\n",
       "      <th></th>\n",
       "      <th></th>\n",
       "      <th></th>\n",
       "      <th></th>\n",
       "      <th></th>\n",
       "      <th></th>\n",
       "      <th></th>\n",
       "      <th></th>\n",
       "      <th></th>\n",
       "    </tr>\n",
       "  </thead>\n",
       "  <tbody>\n",
       "    <tr>\n",
       "      <th>2017-01</th>\n",
       "      <td>100.0</td>\n",
       "      <td>0.39</td>\n",
       "      <td>0.26</td>\n",
       "      <td>0.13</td>\n",
       "      <td>0.39</td>\n",
       "      <td>0.13</td>\n",
       "      <td>0.52</td>\n",
       "      <td>0.13</td>\n",
       "      <td>0.13</td>\n",
       "      <td>NaN</td>\n",
       "      <td>0.39</td>\n",
       "      <td>0.13</td>\n",
       "    </tr>\n",
       "    <tr>\n",
       "      <th>2017-02</th>\n",
       "      <td>100.0</td>\n",
       "      <td>0.23</td>\n",
       "      <td>0.29</td>\n",
       "      <td>0.11</td>\n",
       "      <td>0.40</td>\n",
       "      <td>0.11</td>\n",
       "      <td>0.23</td>\n",
       "      <td>0.17</td>\n",
       "      <td>0.17</td>\n",
       "      <td>0.23</td>\n",
       "      <td>0.11</td>\n",
       "      <td>NaN</td>\n",
       "    </tr>\n",
       "    <tr>\n",
       "      <th>2017-03</th>\n",
       "      <td>100.0</td>\n",
       "      <td>0.49</td>\n",
       "      <td>0.38</td>\n",
       "      <td>0.38</td>\n",
       "      <td>0.34</td>\n",
       "      <td>0.15</td>\n",
       "      <td>0.15</td>\n",
       "      <td>0.30</td>\n",
       "      <td>0.34</td>\n",
       "      <td>0.08</td>\n",
       "      <td>NaN</td>\n",
       "      <td>NaN</td>\n",
       "    </tr>\n",
       "    <tr>\n",
       "      <th>2017-04</th>\n",
       "      <td>100.0</td>\n",
       "      <td>0.59</td>\n",
       "      <td>0.21</td>\n",
       "      <td>0.17</td>\n",
       "      <td>0.34</td>\n",
       "      <td>0.25</td>\n",
       "      <td>0.34</td>\n",
       "      <td>0.30</td>\n",
       "      <td>0.30</td>\n",
       "      <td>NaN</td>\n",
       "      <td>NaN</td>\n",
       "      <td>NaN</td>\n",
       "    </tr>\n",
       "    <tr>\n",
       "      <th>2017-05</th>\n",
       "      <td>100.0</td>\n",
       "      <td>0.50</td>\n",
       "      <td>0.50</td>\n",
       "      <td>0.39</td>\n",
       "      <td>0.31</td>\n",
       "      <td>0.33</td>\n",
       "      <td>0.42</td>\n",
       "      <td>0.17</td>\n",
       "      <td>NaN</td>\n",
       "      <td>NaN</td>\n",
       "      <td>NaN</td>\n",
       "      <td>NaN</td>\n",
       "    </tr>\n",
       "    <tr>\n",
       "      <th>2017-06</th>\n",
       "      <td>100.0</td>\n",
       "      <td>0.48</td>\n",
       "      <td>0.35</td>\n",
       "      <td>0.41</td>\n",
       "      <td>0.25</td>\n",
       "      <td>0.38</td>\n",
       "      <td>0.38</td>\n",
       "      <td>NaN</td>\n",
       "      <td>NaN</td>\n",
       "      <td>NaN</td>\n",
       "      <td>NaN</td>\n",
       "      <td>NaN</td>\n",
       "    </tr>\n",
       "    <tr>\n",
       "      <th>2017-07</th>\n",
       "      <td>100.0</td>\n",
       "      <td>0.51</td>\n",
       "      <td>0.36</td>\n",
       "      <td>0.26</td>\n",
       "      <td>0.28</td>\n",
       "      <td>0.21</td>\n",
       "      <td>NaN</td>\n",
       "      <td>NaN</td>\n",
       "      <td>NaN</td>\n",
       "      <td>NaN</td>\n",
       "      <td>NaN</td>\n",
       "      <td>NaN</td>\n",
       "    </tr>\n",
       "    <tr>\n",
       "      <th>2017-08</th>\n",
       "      <td>100.0</td>\n",
       "      <td>0.69</td>\n",
       "      <td>0.33</td>\n",
       "      <td>0.26</td>\n",
       "      <td>0.36</td>\n",
       "      <td>NaN</td>\n",
       "      <td>NaN</td>\n",
       "      <td>NaN</td>\n",
       "      <td>NaN</td>\n",
       "      <td>NaN</td>\n",
       "      <td>NaN</td>\n",
       "      <td>NaN</td>\n",
       "    </tr>\n",
       "    <tr>\n",
       "      <th>2017-09</th>\n",
       "      <td>100.0</td>\n",
       "      <td>0.68</td>\n",
       "      <td>0.53</td>\n",
       "      <td>0.29</td>\n",
       "      <td>NaN</td>\n",
       "      <td>NaN</td>\n",
       "      <td>NaN</td>\n",
       "      <td>NaN</td>\n",
       "      <td>NaN</td>\n",
       "      <td>NaN</td>\n",
       "      <td>NaN</td>\n",
       "      <td>NaN</td>\n",
       "    </tr>\n",
       "    <tr>\n",
       "      <th>2017-10</th>\n",
       "      <td>100.0</td>\n",
       "      <td>0.69</td>\n",
       "      <td>0.25</td>\n",
       "      <td>NaN</td>\n",
       "      <td>NaN</td>\n",
       "      <td>NaN</td>\n",
       "      <td>NaN</td>\n",
       "      <td>NaN</td>\n",
       "      <td>NaN</td>\n",
       "      <td>NaN</td>\n",
       "      <td>NaN</td>\n",
       "      <td>NaN</td>\n",
       "    </tr>\n",
       "    <tr>\n",
       "      <th>2017-11</th>\n",
       "      <td>100.0</td>\n",
       "      <td>0.55</td>\n",
       "      <td>NaN</td>\n",
       "      <td>NaN</td>\n",
       "      <td>NaN</td>\n",
       "      <td>NaN</td>\n",
       "      <td>NaN</td>\n",
       "      <td>NaN</td>\n",
       "      <td>NaN</td>\n",
       "      <td>NaN</td>\n",
       "      <td>NaN</td>\n",
       "      <td>NaN</td>\n",
       "    </tr>\n",
       "    <tr>\n",
       "      <th>2017-12</th>\n",
       "      <td>100.0</td>\n",
       "      <td>NaN</td>\n",
       "      <td>NaN</td>\n",
       "      <td>NaN</td>\n",
       "      <td>NaN</td>\n",
       "      <td>NaN</td>\n",
       "      <td>NaN</td>\n",
       "      <td>NaN</td>\n",
       "      <td>NaN</td>\n",
       "      <td>NaN</td>\n",
       "      <td>NaN</td>\n",
       "      <td>NaN</td>\n",
       "    </tr>\n",
       "  </tbody>\n",
       "</table>\n",
       "</div>"
      ],
      "text/plain": [
       "retantion_idx            1     2     3     4     5     6     7     8     9   \\\n",
       "first_purchase_month                                                          \n",
       "2017-01               100.0  0.39  0.26  0.13  0.39  0.13  0.52  0.13  0.13   \n",
       "2017-02               100.0  0.23  0.29  0.11  0.40  0.11  0.23  0.17  0.17   \n",
       "2017-03               100.0  0.49  0.38  0.38  0.34  0.15  0.15  0.30  0.34   \n",
       "2017-04               100.0  0.59  0.21  0.17  0.34  0.25  0.34  0.30  0.30   \n",
       "2017-05               100.0  0.50  0.50  0.39  0.31  0.33  0.42  0.17   NaN   \n",
       "2017-06               100.0  0.48  0.35  0.41  0.25  0.38  0.38   NaN   NaN   \n",
       "2017-07               100.0  0.51  0.36  0.26  0.28  0.21   NaN   NaN   NaN   \n",
       "2017-08               100.0  0.69  0.33  0.26  0.36   NaN   NaN   NaN   NaN   \n",
       "2017-09               100.0  0.68  0.53  0.29   NaN   NaN   NaN   NaN   NaN   \n",
       "2017-10               100.0  0.69  0.25   NaN   NaN   NaN   NaN   NaN   NaN   \n",
       "2017-11               100.0  0.55   NaN   NaN   NaN   NaN   NaN   NaN   NaN   \n",
       "2017-12               100.0   NaN   NaN   NaN   NaN   NaN   NaN   NaN   NaN   \n",
       "\n",
       "retantion_idx           10    11    12  \n",
       "first_purchase_month                    \n",
       "2017-01                NaN  0.39  0.13  \n",
       "2017-02               0.23  0.11   NaN  \n",
       "2017-03               0.08   NaN   NaN  \n",
       "2017-04                NaN   NaN   NaN  \n",
       "2017-05                NaN   NaN   NaN  \n",
       "2017-06                NaN   NaN   NaN  \n",
       "2017-07                NaN   NaN   NaN  \n",
       "2017-08                NaN   NaN   NaN  \n",
       "2017-09                NaN   NaN   NaN  \n",
       "2017-10                NaN   NaN   NaN  \n",
       "2017-11                NaN   NaN   NaN  \n",
       "2017-12                NaN   NaN   NaN  "
      ]
     },
     "execution_count": 135,
     "metadata": {},
     "output_type": "execute_result"
    }
   ],
   "source": [
    "retantion"
   ]
  },
  {
   "cell_type": "code",
   "execution_count": 759,
   "metadata": {},
   "outputs": [
    {
     "data": {
      "image/png": "[encoded data removed]",
      "text/plain": [
       "<Figure size 720x720 with 2 Axes>"
      ]
     },
     "metadata": {},
     "output_type": "display_data"
    }
   ],
   "source": [
    "plt.figure(figsize = (10,10))\n",
    "\n",
    "# clrs = sns.diverging_palette(0, 360, 0, 50)\n",
    "retantion_without_1 = retantion.drop(columns=[1])\n",
    "\n",
    "values = retantion_without_1.unstack().dropna().sort_values().unique()\n",
    "\n",
    "target = retantion_without_1[3].max()\n",
    "\n",
    "clrs = [our_palette['max'] if (x >= (target - 0.05)) else our_palette['default'] for x in values]\n",
    "ax = sns.heatmap(retantion_without_1, annot=True, cmap=clrs)\n",
    "\n",
    "ax.set_yticklabels(rotation=0, labels=ax.get_yticklabels())\n",
    "\n",
    "ax.set_title('Retantion rate in %')\n",
    "\n",
    "sns.despine()"
   ]
  },
  {
   "cell_type": "code",
   "execution_count": 760,
   "metadata": {},
   "outputs": [
    {
     "data": {
      "text/plain": [
       "'2017-09'"
      ]
     },
     "execution_count": 760,
     "metadata": {},
     "output_type": "execute_result"
    }
   ],
   "source": [
    "retantion[3].idxmax()"
   ]
  },
  {
   "cell_type": "markdown",
   "metadata": {},
   "source": [
    "#### Ответ \n",
    "Пользователи совершившие превую покупку в <font color=\"#ff5533\">2017-09</font> месяце демонстрируют лучший уровень удержания на третий месяц"
   ]
  },
  {
   "cell_type": "markdown",
   "metadata": {},
   "source": [
    "# Вопрос 6.\n",
    "Часто для качественного анализа аудитории использую подходы, основанные на сегментации. Используя python, построй RFM-сегментацию пользователей, чтобы качественно оценить свою аудиторию. В кластеризации можешь выбрать следующие метрики: R - время от последней покупки пользователя до текущей даты, F - суммарное количество покупок у пользователя за всё время, M - сумма покупок за всё время. Подробно опиши, как ты создавал кластеры. Для каждого RFM-сегмента построй границы метрик recency, frequency и monetary для интерпретации этих кластеров. Пример такого описания: RFM-сегмент 132 (recency=1, frequency=3, monetary=2) имеет границы метрик recency от 130 до 500 дней, frequency от 2 до 5 заказов в неделю, monetary от 1780 до 3560 рублей в неделю. Описание подхода можно найти <a href=\"https://guillaume-martin.github.io/rfm-segmentation-with-python.html\" target=\"_blank\">тут</a>. (35 баллов)"
   ]
  },
  {
   "cell_type": "markdown",
   "metadata": {},
   "source": [
    "## Что будем делать:\n",
    "* Определимся что будем считать покупкой\n",
    "* Отфильтруем непокупки\n",
    "* Определимся с верменным переодом для иследования\n",
    "* Посчитаем *текущую дату* = *последний день периода* + 1\n",
    "* Посчитаем RFM метрики"
   ]
  },
  {
   "cell_type": "markdown",
   "metadata": {},
   "source": [
    "## Определимся что будем считать покупкой\n",
    "\n",
    "Покупкой будем считать те записи в **df_orders** для которых есть заначение **order_approved_at** - время подтверждения оплаты заказа, а также отфильтруем заказы где **order_status** не равны *unavailable* или *canceled*"
   ]
  },
  {
   "cell_type": "code",
   "execution_count": 166,
   "metadata": {},
   "outputs": [],
   "source": [
    "# из описания данных поле order_approved_at это время подтверждения опраты\n",
    "# создаем колонку с меткой что оплата была получена\n",
    "df_orders['paid'] = ~df_orders.order_approved_at.isna()\n",
    "#создадим колонку с округленной до дня датой покупки\n",
    "df_orders['payment_date'] = df_orders.order_approved_at.dt.round('D')\n",
    "# статусы заказов которые не позволяют сказать что совершена покупка\n",
    "not_paid_statuses = ['unavailable' 'canceled']"
   ]
  },
  {
   "cell_type": "markdown",
   "metadata": {},
   "source": [
    "## Отфильтруем непокупки"
   ]
  },
  {
   "cell_type": "code",
   "execution_count": 167,
   "metadata": {},
   "outputs": [],
   "source": [
    "df_paid_order = df_orders.query('order_status not in @not_paid_statuses and paid')"
   ]
  },
  {
   "cell_type": "markdown",
   "metadata": {},
   "source": [
    "## Определимся с верменным переодом для иследования"
   ]
  },
  {
   "cell_type": "code",
   "execution_count": 191,
   "metadata": {},
   "outputs": [
    {
     "name": "stdout",
     "output_type": "stream",
     "text": [
      "дата первой покупки: 2017-01-06\n",
      "дата последней пркупки: 2017-12-31\n"
     ]
    }
   ],
   "source": [
    "print(f'''дата первой покупки: {df_paid_order.payment_date.min().date()}\n",
    "дата последней пркупки: {df_paid_order.payment_date.max().date()}''')"
   ]
  },
  {
   "cell_type": "code",
   "execution_count": 169,
   "metadata": {},
   "outputs": [
    {
     "data": {
      "text/plain": [
       "y\n",
       "2016     3\n",
       "2017    12\n",
       "2018     9\n",
       "Name: m, dtype: int64"
      ]
     },
     "execution_count": 169,
     "metadata": {},
     "output_type": "execute_result"
    }
   ],
   "source": [
    "# сколько у нас есть месецев в каждом году? и какой год выбрать для следующего шага?\n",
    "pd.DataFrame({\n",
    "    'y': df_paid_order.payment_date.dt.year,\n",
    "    'm': df_paid_order.payment_date.dt.month\n",
    "}).groupby('y').m.nunique()"
   ]
  },
  {
   "cell_type": "markdown",
   "metadata": {},
   "source": [
    "### 2017 год\n",
    "вкачестве иследуемого периода возьмем 2017 год"
   ]
  },
  {
   "cell_type": "code",
   "execution_count": 187,
   "metadata": {},
   "outputs": [],
   "source": [
    "start_investigation_period = '2017-01-01'\n",
    "NOW = df_paid_order.payment_date.max() + timedelta(days=1)"
   ]
  },
  {
   "cell_type": "code",
   "execution_count": 188,
   "metadata": {},
   "outputs": [],
   "source": [
    "df_paid_order = df_paid_order.query('payment_date >= @start_investigation_period and payment_date < @NOW') "
   ]
  },
  {
   "cell_type": "code",
   "execution_count": 194,
   "metadata": {},
   "outputs": [
    {
     "name": "stdout",
     "output_type": "stream",
     "text": [
      "Дата первой покупки: 2017-01-06\n",
      "Дата последней пркупки: 2017-12-31\n",
      "\"Текущая\" дата: 2018-01-01\n"
     ]
    }
   ],
   "source": [
    "print(f'''Дата первой покупки: {df_paid_order.payment_date.min().date()}\n",
    "Дата последней пркупки: {df_paid_order.payment_date.max().date()}\n",
    "\"Текущая\" дата: {NOW.date()}''')"
   ]
  },
  {
   "cell_type": "markdown",
   "metadata": {},
   "source": [
    "## Посчитаем RFM метрики"
   ]
  },
  {
   "cell_type": "markdown",
   "metadata": {},
   "source": [
    "### Что будем делать:\n",
    "\n",
    "* Так как метрики мы будем считать по покупателям, то нам нужно сгрупировать по **customer_unique_id**, для этого смержим полученный датасет **df_paid_order** с **df_customers**;\n",
    "* Так как для M метрики нам нужна сумма покупок за всё врем, для получения этих данных смержим полученный на предыдущем шаге датасет с **df_order_items**;\n",
    "* Далее сгрпируем по **customer_unique_id** и сагрегируем для расчёта метрик."
   ]
  },
  {
   "cell_type": "code",
   "execution_count": 206,
   "metadata": {},
   "outputs": [
    {
     "data": {
      "text/html": [
       "<div>\n",
       "<style scoped>\n",
       "    .dataframe tbody tr th:only-of-type {\n",
       "        vertical-align: middle;\n",
       "    }\n",
       "\n",
       "    .dataframe tbody tr th {\n",
       "        vertical-align: top;\n",
       "    }\n",
       "\n",
       "    .dataframe thead th {\n",
       "        text-align: right;\n",
       "    }\n",
       "</style>\n",
       "<table border=\"1\" class=\"dataframe\">\n",
       "  <thead>\n",
       "    <tr style=\"text-align: right;\">\n",
       "      <th></th>\n",
       "      <th>order_id</th>\n",
       "      <th>order_item_id</th>\n",
       "      <th>product_id</th>\n",
       "      <th>seller_id</th>\n",
       "      <th>shipping_limit_date</th>\n",
       "      <th>price</th>\n",
       "      <th>freight_value</th>\n",
       "    </tr>\n",
       "  </thead>\n",
       "  <tbody>\n",
       "    <tr>\n",
       "      <th>0</th>\n",
       "      <td>00010242fe8c5a6d1ba2dd792cb16214</td>\n",
       "      <td>1</td>\n",
       "      <td>4244733e06e7ecb4970a6e2683c13e61</td>\n",
       "      <td>48436dade18ac8b2bce089ec2a041202</td>\n",
       "      <td>2017-09-19 09:45:35</td>\n",
       "      <td>58.90</td>\n",
       "      <td>13.29</td>\n",
       "    </tr>\n",
       "    <tr>\n",
       "      <th>1</th>\n",
       "      <td>00018f77f2f0320c557190d7a144bdd3</td>\n",
       "      <td>1</td>\n",
       "      <td>e5f2d52b802189ee658865ca93d83a8f</td>\n",
       "      <td>dd7ddc04e1b6c2c614352b383efe2d36</td>\n",
       "      <td>2017-05-03 11:05:13</td>\n",
       "      <td>239.90</td>\n",
       "      <td>19.93</td>\n",
       "    </tr>\n",
       "    <tr>\n",
       "      <th>2</th>\n",
       "      <td>000229ec398224ef6ca0657da4fc703e</td>\n",
       "      <td>1</td>\n",
       "      <td>c777355d18b72b67abbeef9df44fd0fd</td>\n",
       "      <td>5b51032eddd242adc84c38acab88f23d</td>\n",
       "      <td>2018-01-18 14:48:30</td>\n",
       "      <td>199.00</td>\n",
       "      <td>17.87</td>\n",
       "    </tr>\n",
       "    <tr>\n",
       "      <th>3</th>\n",
       "      <td>00024acbcdf0a6daa1e931b038114c75</td>\n",
       "      <td>1</td>\n",
       "      <td>7634da152a4610f1595efa32f14722fc</td>\n",
       "      <td>9d7a1d34a5052409006425275ba1c2b4</td>\n",
       "      <td>2018-08-15 10:10:18</td>\n",
       "      <td>12.99</td>\n",
       "      <td>12.79</td>\n",
       "    </tr>\n",
       "    <tr>\n",
       "      <th>4</th>\n",
       "      <td>00042b26cf59d7ce69dfabb4e55b4fd9</td>\n",
       "      <td>1</td>\n",
       "      <td>ac6c3623068f30de03045865e4e10089</td>\n",
       "      <td>df560393f3a51e74553ab94004ba5c87</td>\n",
       "      <td>2017-02-13 13:57:51</td>\n",
       "      <td>199.90</td>\n",
       "      <td>18.14</td>\n",
       "    </tr>\n",
       "  </tbody>\n",
       "</table>\n",
       "</div>"
      ],
      "text/plain": [
       "                           order_id  order_item_id  \\\n",
       "0  00010242fe8c5a6d1ba2dd792cb16214              1   \n",
       "1  00018f77f2f0320c557190d7a144bdd3              1   \n",
       "2  000229ec398224ef6ca0657da4fc703e              1   \n",
       "3  00024acbcdf0a6daa1e931b038114c75              1   \n",
       "4  00042b26cf59d7ce69dfabb4e55b4fd9              1   \n",
       "\n",
       "                         product_id                         seller_id  \\\n",
       "0  4244733e06e7ecb4970a6e2683c13e61  48436dade18ac8b2bce089ec2a041202   \n",
       "1  e5f2d52b802189ee658865ca93d83a8f  dd7ddc04e1b6c2c614352b383efe2d36   \n",
       "2  c777355d18b72b67abbeef9df44fd0fd  5b51032eddd242adc84c38acab88f23d   \n",
       "3  7634da152a4610f1595efa32f14722fc  9d7a1d34a5052409006425275ba1c2b4   \n",
       "4  ac6c3623068f30de03045865e4e10089  df560393f3a51e74553ab94004ba5c87   \n",
       "\n",
       "  shipping_limit_date   price  freight_value  \n",
       "0 2017-09-19 09:45:35   58.90          13.29  \n",
       "1 2017-05-03 11:05:13  239.90          19.93  \n",
       "2 2018-01-18 14:48:30  199.00          17.87  \n",
       "3 2018-08-15 10:10:18   12.99          12.79  \n",
       "4 2017-02-13 13:57:51  199.90          18.14  "
      ]
     },
     "execution_count": 206,
     "metadata": {},
     "output_type": "execute_result"
    }
   ],
   "source": [
    "df_order_items.head()"
   ]
  },
  {
   "cell_type": "code",
   "execution_count": 209,
   "metadata": {},
   "outputs": [],
   "source": [
    "rfm = {}\n",
    "rfm_columns = {}"
   ]
  },
  {
   "cell_type": "markdown",
   "metadata": {},
   "source": [
    "### R - Recency\n",
    "R - время от последней покупки пользователя до текущей даты."
   ]
  },
  {
   "cell_type": "code",
   "execution_count": 229,
   "metadata": {},
   "outputs": [],
   "source": [
    "# метод для аггрегации payment_date и получения R метрики\n",
    "rfm['payment_date'] = lambda x: (NOW - x.max()).days\n",
    "\n",
    "rfm_columns['payment_date'] = 'Recency'"
   ]
  },
  {
   "cell_type": "markdown",
   "metadata": {},
   "source": [
    "### F - Frequency\n",
    "F - суммарное количество покупок у пользователя за всё время."
   ]
  },
  {
   "cell_type": "code",
   "execution_count": 224,
   "metadata": {},
   "outputs": [],
   "source": [
    "# Метрику F посчитаем количество уникальных order_id\n",
    "rfm['order_id'] = pd.Series.nunique\n",
    "\n",
    "rfm_columns['order_id'] = 'Frequency'"
   ]
  },
  {
   "cell_type": "markdown",
   "metadata": {},
   "source": [
    "### M - Monetary\n",
    "M - сумма покупок за всё время."
   ]
  },
  {
   "cell_type": "code",
   "execution_count": 225,
   "metadata": {},
   "outputs": [],
   "source": [
    "# Метрику M расчитаем как сумму price\n",
    "rfm['price'] = pd.Series.sum\n",
    "\n",
    "rfm_columns['price'] = 'Monetary'"
   ]
  },
  {
   "cell_type": "markdown",
   "metadata": {},
   "source": [
    "### RFM - Значения "
   ]
  },
  {
   "cell_type": "code",
   "execution_count": 230,
   "metadata": {},
   "outputs": [],
   "source": [
    "df_rfm = df_paid_order \\\n",
    "    .merge(right=df_customers, on='customer_id') \\\n",
    "    .merge(right=df_order_items, on='order_id') \\\n",
    "    .groupby(by='customer_unique_id', as_index=False) \\\n",
    "    .agg(rfm) \\\n",
    "    .rename(columns=rfm_columns)"
   ]
  },
  {
   "cell_type": "code",
   "execution_count": 602,
   "metadata": {},
   "outputs": [
    {
     "data": {
      "text/html": [
       "<div>\n",
       "<style scoped>\n",
       "    .dataframe tbody tr th:only-of-type {\n",
       "        vertical-align: middle;\n",
       "    }\n",
       "\n",
       "    .dataframe tbody tr th {\n",
       "        vertical-align: top;\n",
       "    }\n",
       "\n",
       "    .dataframe thead th {\n",
       "        text-align: right;\n",
       "    }\n",
       "</style>\n",
       "<table border=\"1\" class=\"dataframe\">\n",
       "  <thead>\n",
       "    <tr style=\"text-align: right;\">\n",
       "      <th></th>\n",
       "      <th>customer_unique_id</th>\n",
       "      <th>Recency</th>\n",
       "      <th>Frequency</th>\n",
       "      <th>Monetary</th>\n",
       "      <th>R</th>\n",
       "      <th>M</th>\n",
       "      <th>F</th>\n",
       "      <th>rfm</th>\n",
       "      <th>Segment</th>\n",
       "    </tr>\n",
       "  </thead>\n",
       "  <tbody>\n",
       "    <tr>\n",
       "      <th>0</th>\n",
       "      <td>0000f46a3911fa3c0805444483337064</td>\n",
       "      <td>296</td>\n",
       "      <td>1</td>\n",
       "      <td>69.00</td>\n",
       "      <td>1</td>\n",
       "      <td>3</td>\n",
       "      <td>1</td>\n",
       "      <td>113</td>\n",
       "      <td>hibernating</td>\n",
       "    </tr>\n",
       "    <tr>\n",
       "      <th>1</th>\n",
       "      <td>0000f6ccb0745a6a4b88665a16c9f078</td>\n",
       "      <td>80</td>\n",
       "      <td>1</td>\n",
       "      <td>25.99</td>\n",
       "      <td>4</td>\n",
       "      <td>1</td>\n",
       "      <td>1</td>\n",
       "      <td>411</td>\n",
       "      <td>promising</td>\n",
       "    </tr>\n",
       "    <tr>\n",
       "      <th>2</th>\n",
       "      <td>0004aac84e0df4da2b147fca70cf8255</td>\n",
       "      <td>47</td>\n",
       "      <td>1</td>\n",
       "      <td>180.00</td>\n",
       "      <td>4</td>\n",
       "      <td>5</td>\n",
       "      <td>1</td>\n",
       "      <td>415</td>\n",
       "      <td>promising</td>\n",
       "    </tr>\n",
       "    <tr>\n",
       "      <th>3</th>\n",
       "      <td>0005e1862207bf6ccc02e4228effd9a0</td>\n",
       "      <td>302</td>\n",
       "      <td>1</td>\n",
       "      <td>135.00</td>\n",
       "      <td>1</td>\n",
       "      <td>4</td>\n",
       "      <td>1</td>\n",
       "      <td>114</td>\n",
       "      <td>hibernating</td>\n",
       "    </tr>\n",
       "    <tr>\n",
       "      <th>4</th>\n",
       "      <td>0006fdc98a402fceb4eb0ee528f6a8d4</td>\n",
       "      <td>167</td>\n",
       "      <td>1</td>\n",
       "      <td>13.90</td>\n",
       "      <td>2</td>\n",
       "      <td>1</td>\n",
       "      <td>1</td>\n",
       "      <td>211</td>\n",
       "      <td>hibernating</td>\n",
       "    </tr>\n",
       "  </tbody>\n",
       "</table>\n",
       "</div>"
      ],
      "text/plain": [
       "                 customer_unique_id  Recency  Frequency  Monetary  R  M  F  \\\n",
       "0  0000f46a3911fa3c0805444483337064      296          1     69.00  1  3  1   \n",
       "1  0000f6ccb0745a6a4b88665a16c9f078       80          1     25.99  4  1  1   \n",
       "2  0004aac84e0df4da2b147fca70cf8255       47          1    180.00  4  5  1   \n",
       "3  0005e1862207bf6ccc02e4228effd9a0      302          1    135.00  1  4  1   \n",
       "4  0006fdc98a402fceb4eb0ee528f6a8d4      167          1     13.90  2  1  1   \n",
       "\n",
       "   rfm      Segment  \n",
       "0  113  hibernating  \n",
       "1  411    promising  \n",
       "2  415    promising  \n",
       "3  114  hibernating  \n",
       "4  211  hibernating  "
      ]
     },
     "execution_count": 602,
     "metadata": {},
     "output_type": "execute_result"
    }
   ],
   "source": [
    "df_rfm.head()"
   ]
  },
  {
   "cell_type": "markdown",
   "metadata": {},
   "source": [
    "### RFM - Ранжирование\n",
    "\n",
    "преобразуем значения, полученные на предыдущем шаге в ранг от 1 до 5"
   ]
  },
  {
   "cell_type": "code",
   "execution_count": 288,
   "metadata": {},
   "outputs": [],
   "source": [
    "quintile_values = [0.0, 0.2, 0.4, 0.6, 0.8, 1.0]"
   ]
  },
  {
   "cell_type": "code",
   "execution_count": 323,
   "metadata": {},
   "outputs": [
    {
     "data": {
      "text/plain": [
       "{'Recency': {0.0: 1.0,\n",
       "  0.2: 37.0,\n",
       "  0.4: 92.0,\n",
       "  0.6: 156.0,\n",
       "  0.8: 232.0,\n",
       "  1.0: 360.0},\n",
       " 'Frequency': {0.0: 1.0, 0.2: 1.0, 0.4: 1.0, 0.6: 1.0, 0.8: 1.0, 1.0: 9.0},\n",
       " 'Monetary': {0.0: 2.29,\n",
       "  0.2: 39.9,\n",
       "  0.4: 68.9,\n",
       "  0.6: 108.9,\n",
       "  0.8: 179.98,\n",
       "  1.0: 13440.0}}"
      ]
     },
     "execution_count": 323,
     "metadata": {},
     "output_type": "execute_result"
    }
   ],
   "source": [
    "quintiles = df_rfm[['Recency', 'Frequency', 'Monetary']].quantile(quintile_values).to_dict()\n",
    "quintiles"
   ]
  },
  {
   "cell_type": "code",
   "execution_count": 324,
   "metadata": {},
   "outputs": [
    {
     "data": {
      "text/plain": [
       "{'Recency': [1.0, 37.0, 92.0, 156.0, 232.0, 360.0],\n",
       " 'Frequency': [1.0, 1.0, 1.0, 1.0, 1.0, 9.0],\n",
       " 'Monetary': [2.29, 39.9, 68.9, 108.9, 179.98, 13440.0]}"
      ]
     },
     "execution_count": 324,
     "metadata": {},
     "output_type": "execute_result"
    }
   ],
   "source": [
    "# преобразуем к спискам\n",
    "for m in quintiles:\n",
    "    quintiles[m] = list(quintiles[m].values())\n",
    "\n",
    "quintiles"
   ]
  },
  {
   "cell_type": "markdown",
   "metadata": {},
   "source": [
    "Нет возможности поделсить Frequency на квантили, сделаем одтельно."
   ]
  },
  {
   "cell_type": "code",
   "execution_count": 325,
   "metadata": {},
   "outputs": [
    {
     "data": {
      "text/plain": [
       "{'Recency': [1.0, 37.0, 92.0, 156.0, 232.0, 360.0],\n",
       " 'Frequency': array([1. , 2.2, 3.4, 4.6, 5.8, 9. ]),\n",
       " 'Monetary': [2.29, 39.9, 68.9, 108.9, 179.98, 13440.0]}"
      ]
     },
     "execution_count": 325,
     "metadata": {},
     "output_type": "execute_result"
    }
   ],
   "source": [
    "quintiles['Frequency'] = np.quantile(df_rfm.Frequency.unique(), quintile_values)\n",
    "quintiles"
   ]
  },
  {
   "cell_type": "code",
   "execution_count": 304,
   "metadata": {},
   "outputs": [],
   "source": [
    "levels = {\n",
    "    'Recency' : [5, 4, 3, 2, 1],\n",
    "    'Frequency' : [1, 2, 3, 4, 5],\n",
    "    'Monetary' : [1, 2, 3, 4, 5]\n",
    "}"
   ]
  },
  {
   "cell_type": "code",
   "execution_count": 306,
   "metadata": {},
   "outputs": [],
   "source": [
    "for l in levels:\n",
    "    bins = quintiles[l]\n",
    "    metric_name = l[0]\n",
    "    df_rfm[metric_name] = pd.cut(df_rfm[l], bins=bins, labels=levels[l], include_lowest=True)"
   ]
  },
  {
   "cell_type": "markdown",
   "metadata": {},
   "source": [
    "Скомбинируем R, F, M метрики"
   ]
  },
  {
   "cell_type": "code",
   "execution_count": 320,
   "metadata": {},
   "outputs": [],
   "source": [
    "df_rfm['rfm'] = df_rfm.R.astype(str) + df_rfm.F.astype(str) + df_rfm.M.astype(str)"
   ]
  },
  {
   "cell_type": "code",
   "execution_count": 321,
   "metadata": {},
   "outputs": [
    {
     "data": {
      "text/html": [
       "<div>\n",
       "<style scoped>\n",
       "    .dataframe tbody tr th:only-of-type {\n",
       "        vertical-align: middle;\n",
       "    }\n",
       "\n",
       "    .dataframe tbody tr th {\n",
       "        vertical-align: top;\n",
       "    }\n",
       "\n",
       "    .dataframe thead th {\n",
       "        text-align: right;\n",
       "    }\n",
       "</style>\n",
       "<table border=\"1\" class=\"dataframe\">\n",
       "  <thead>\n",
       "    <tr style=\"text-align: right;\">\n",
       "      <th></th>\n",
       "      <th>customer_unique_id</th>\n",
       "      <th>Recency</th>\n",
       "      <th>Frequency</th>\n",
       "      <th>Monetary</th>\n",
       "      <th>R</th>\n",
       "      <th>M</th>\n",
       "      <th>F</th>\n",
       "      <th>rfm</th>\n",
       "    </tr>\n",
       "  </thead>\n",
       "  <tbody>\n",
       "    <tr>\n",
       "      <th>0</th>\n",
       "      <td>0000f46a3911fa3c0805444483337064</td>\n",
       "      <td>296</td>\n",
       "      <td>1</td>\n",
       "      <td>69.00</td>\n",
       "      <td>1</td>\n",
       "      <td>3</td>\n",
       "      <td>1</td>\n",
       "      <td>113</td>\n",
       "    </tr>\n",
       "    <tr>\n",
       "      <th>1</th>\n",
       "      <td>0000f6ccb0745a6a4b88665a16c9f078</td>\n",
       "      <td>80</td>\n",
       "      <td>1</td>\n",
       "      <td>25.99</td>\n",
       "      <td>4</td>\n",
       "      <td>1</td>\n",
       "      <td>1</td>\n",
       "      <td>411</td>\n",
       "    </tr>\n",
       "    <tr>\n",
       "      <th>2</th>\n",
       "      <td>0004aac84e0df4da2b147fca70cf8255</td>\n",
       "      <td>47</td>\n",
       "      <td>1</td>\n",
       "      <td>180.00</td>\n",
       "      <td>4</td>\n",
       "      <td>5</td>\n",
       "      <td>1</td>\n",
       "      <td>415</td>\n",
       "    </tr>\n",
       "    <tr>\n",
       "      <th>3</th>\n",
       "      <td>0005e1862207bf6ccc02e4228effd9a0</td>\n",
       "      <td>302</td>\n",
       "      <td>1</td>\n",
       "      <td>135.00</td>\n",
       "      <td>1</td>\n",
       "      <td>4</td>\n",
       "      <td>1</td>\n",
       "      <td>114</td>\n",
       "    </tr>\n",
       "    <tr>\n",
       "      <th>4</th>\n",
       "      <td>0006fdc98a402fceb4eb0ee528f6a8d4</td>\n",
       "      <td>167</td>\n",
       "      <td>1</td>\n",
       "      <td>13.90</td>\n",
       "      <td>2</td>\n",
       "      <td>1</td>\n",
       "      <td>1</td>\n",
       "      <td>211</td>\n",
       "    </tr>\n",
       "  </tbody>\n",
       "</table>\n",
       "</div>"
      ],
      "text/plain": [
       "                 customer_unique_id  Recency  Frequency  Monetary  R  M  F  \\\n",
       "0  0000f46a3911fa3c0805444483337064      296          1     69.00  1  3  1   \n",
       "1  0000f6ccb0745a6a4b88665a16c9f078       80          1     25.99  4  1  1   \n",
       "2  0004aac84e0df4da2b147fca70cf8255       47          1    180.00  4  5  1   \n",
       "3  0005e1862207bf6ccc02e4228effd9a0      302          1    135.00  1  4  1   \n",
       "4  0006fdc98a402fceb4eb0ee528f6a8d4      167          1     13.90  2  1  1   \n",
       "\n",
       "   rfm  \n",
       "0  113  \n",
       "1  411  \n",
       "2  415  \n",
       "3  114  \n",
       "4  211  "
      ]
     },
     "execution_count": 321,
     "metadata": {},
     "output_type": "execute_result"
    }
   ],
   "source": [
    "df_rfm.head()"
   ]
  },
  {
   "cell_type": "markdown",
   "metadata": {},
   "source": [
    "Для интерпритации метрики поименуем сигменты как-нибудь осмысленно. Возьмем описание сигментов из <a href='https://guillaume-martin.github.io/rfm-segmentation-with-python.html'>статьи</a>\n",
    "\n",
    "Segment\tDescription\n",
    "* `Champions`\tBought recently, buy often and spend the most\n",
    "* `Loyal Customers`\tBuy on a regular basis. Responsive to promotions.\n",
    "* `Potential Loyalist`\tRecent customers with average frequency.\n",
    "* `Recent Customers`\tBought most recently, but not often.\n",
    "* `Promising`\tRecent shoppers, but haven’t spent much.\n",
    "* `Customers Needing Attention`\tAbove average recency, frequency and monetary values. May not have bought very recently though.\n",
    "* `About To Sleep`\tBelow average recency and frequency. Will lose them if not reactivated.\n",
    "* `At Risk`\tPurchased often but a long time ago. Need to bring them back!\n",
    "* `Can’t Lose Them`\tUsed to purchase frequently but haven’t returned for a long time.\n",
    "* `Hibernating`\tLast purchase was long back and low number of orders. May be lost."
   ]
  },
  {
   "cell_type": "code",
   "execution_count": 379,
   "metadata": {},
   "outputs": [
    {
     "data": {
      "text/html": [
       "<div>\n",
       "<style scoped>\n",
       "    .dataframe tbody tr th:only-of-type {\n",
       "        vertical-align: middle;\n",
       "    }\n",
       "\n",
       "    .dataframe tbody tr th {\n",
       "        vertical-align: top;\n",
       "    }\n",
       "\n",
       "    .dataframe thead th {\n",
       "        text-align: right;\n",
       "    }\n",
       "</style>\n",
       "<table border=\"1\" class=\"dataframe\">\n",
       "  <thead>\n",
       "    <tr style=\"text-align: right;\">\n",
       "      <th></th>\n",
       "      <th>customer_unique_id</th>\n",
       "      <th>Recency</th>\n",
       "      <th>Frequency</th>\n",
       "      <th>Monetary</th>\n",
       "      <th>R</th>\n",
       "      <th>M</th>\n",
       "      <th>F</th>\n",
       "      <th>rfm</th>\n",
       "      <th>Segment</th>\n",
       "    </tr>\n",
       "  </thead>\n",
       "  <tbody>\n",
       "    <tr>\n",
       "      <th>0</th>\n",
       "      <td>0000f46a3911fa3c0805444483337064</td>\n",
       "      <td>296</td>\n",
       "      <td>1</td>\n",
       "      <td>69.00</td>\n",
       "      <td>1</td>\n",
       "      <td>3</td>\n",
       "      <td>1</td>\n",
       "      <td>113</td>\n",
       "      <td>hibernating</td>\n",
       "    </tr>\n",
       "    <tr>\n",
       "      <th>1</th>\n",
       "      <td>0000f6ccb0745a6a4b88665a16c9f078</td>\n",
       "      <td>80</td>\n",
       "      <td>1</td>\n",
       "      <td>25.99</td>\n",
       "      <td>4</td>\n",
       "      <td>1</td>\n",
       "      <td>1</td>\n",
       "      <td>411</td>\n",
       "      <td>promising</td>\n",
       "    </tr>\n",
       "    <tr>\n",
       "      <th>2</th>\n",
       "      <td>0004aac84e0df4da2b147fca70cf8255</td>\n",
       "      <td>47</td>\n",
       "      <td>1</td>\n",
       "      <td>180.00</td>\n",
       "      <td>4</td>\n",
       "      <td>5</td>\n",
       "      <td>1</td>\n",
       "      <td>415</td>\n",
       "      <td>promising</td>\n",
       "    </tr>\n",
       "    <tr>\n",
       "      <th>3</th>\n",
       "      <td>0005e1862207bf6ccc02e4228effd9a0</td>\n",
       "      <td>302</td>\n",
       "      <td>1</td>\n",
       "      <td>135.00</td>\n",
       "      <td>1</td>\n",
       "      <td>4</td>\n",
       "      <td>1</td>\n",
       "      <td>114</td>\n",
       "      <td>hibernating</td>\n",
       "    </tr>\n",
       "    <tr>\n",
       "      <th>4</th>\n",
       "      <td>0006fdc98a402fceb4eb0ee528f6a8d4</td>\n",
       "      <td>167</td>\n",
       "      <td>1</td>\n",
       "      <td>13.90</td>\n",
       "      <td>2</td>\n",
       "      <td>1</td>\n",
       "      <td>1</td>\n",
       "      <td>211</td>\n",
       "      <td>hibernating</td>\n",
       "    </tr>\n",
       "  </tbody>\n",
       "</table>\n",
       "</div>"
      ],
      "text/plain": [
       "                 customer_unique_id  Recency  Frequency  Monetary  R  M  F  \\\n",
       "0  0000f46a3911fa3c0805444483337064      296          1     69.00  1  3  1   \n",
       "1  0000f6ccb0745a6a4b88665a16c9f078       80          1     25.99  4  1  1   \n",
       "2  0004aac84e0df4da2b147fca70cf8255       47          1    180.00  4  5  1   \n",
       "3  0005e1862207bf6ccc02e4228effd9a0      302          1    135.00  1  4  1   \n",
       "4  0006fdc98a402fceb4eb0ee528f6a8d4      167          1     13.90  2  1  1   \n",
       "\n",
       "   rfm      Segment  \n",
       "0  113  hibernating  \n",
       "1  411    promising  \n",
       "2  415    promising  \n",
       "3  114  hibernating  \n",
       "4  211  hibernating  "
      ]
     },
     "execution_count": 379,
     "metadata": {},
     "output_type": "execute_result"
    }
   ],
   "source": [
    "segt_map = {\n",
    "    r'[1-2][1-2]': 'hibernating',\n",
    "    r'[1-2][3-4]': 'at risk',\n",
    "    r'[1-2]5': 'can\\'t loose',\n",
    "    r'3[1-2]': 'about to sleep',\n",
    "    r'33': 'need attention',\n",
    "    r'[3-4][4-5]': 'loyal customers',\n",
    "    r'41': 'promising',\n",
    "    r'51': 'new customers',\n",
    "    r'[4-5][2-3]': 'potential loyalists',\n",
    "    r'5[4-5]': 'champions'\n",
    "}\n",
    "\n",
    "df_rfm['Segment'] = df_rfm.R.astype(str) + df_rfm.F.astype(str)\n",
    "df_rfm['Segment'] = df_rfm['Segment'].replace(segt_map, regex=True)\n",
    "df_rfm.head()\n"
   ]
  },
  {
   "cell_type": "markdown",
   "metadata": {},
   "source": [
    "### Визуализируем"
   ]
  },
  {
   "cell_type": "code",
   "execution_count": 407,
   "metadata": {},
   "outputs": [
    {
     "data": {
      "text/html": [
       "<div>\n",
       "<style scoped>\n",
       "    .dataframe tbody tr th:only-of-type {\n",
       "        vertical-align: middle;\n",
       "    }\n",
       "\n",
       "    .dataframe tbody tr th {\n",
       "        vertical-align: top;\n",
       "    }\n",
       "\n",
       "    .dataframe thead th {\n",
       "        text-align: right;\n",
       "    }\n",
       "</style>\n",
       "<table border=\"1\" class=\"dataframe\">\n",
       "  <thead>\n",
       "    <tr style=\"text-align: right;\">\n",
       "      <th></th>\n",
       "      <th>Segment</th>\n",
       "      <th>counts</th>\n",
       "      <th>log_counts</th>\n",
       "    </tr>\n",
       "  </thead>\n",
       "  <tbody>\n",
       "    <tr>\n",
       "      <th>0</th>\n",
       "      <td>can't loose</td>\n",
       "      <td>1</td>\n",
       "      <td>1.000000</td>\n",
       "    </tr>\n",
       "    <tr>\n",
       "      <th>1</th>\n",
       "      <td>loyal customers</td>\n",
       "      <td>1</td>\n",
       "      <td>1.000000</td>\n",
       "    </tr>\n",
       "    <tr>\n",
       "      <th>2</th>\n",
       "      <td>need attention</td>\n",
       "      <td>2</td>\n",
       "      <td>1.693147</td>\n",
       "    </tr>\n",
       "    <tr>\n",
       "      <th>3</th>\n",
       "      <td>at risk</td>\n",
       "      <td>4</td>\n",
       "      <td>2.386294</td>\n",
       "    </tr>\n",
       "    <tr>\n",
       "      <th>4</th>\n",
       "      <td>champions</td>\n",
       "      <td>4</td>\n",
       "      <td>2.386294</td>\n",
       "    </tr>\n",
       "    <tr>\n",
       "      <th>5</th>\n",
       "      <td>potential loyalists</td>\n",
       "      <td>38</td>\n",
       "      <td>4.637586</td>\n",
       "    </tr>\n",
       "    <tr>\n",
       "      <th>6</th>\n",
       "      <td>promising</td>\n",
       "      <td>8608</td>\n",
       "      <td>10.060447</td>\n",
       "    </tr>\n",
       "    <tr>\n",
       "      <th>7</th>\n",
       "      <td>about to sleep</td>\n",
       "      <td>8615</td>\n",
       "      <td>10.061260</td>\n",
       "    </tr>\n",
       "    <tr>\n",
       "      <th>8</th>\n",
       "      <td>new customers</td>\n",
       "      <td>8664</td>\n",
       "      <td>10.066932</td>\n",
       "    </tr>\n",
       "    <tr>\n",
       "      <th>9</th>\n",
       "      <td>hibernating</td>\n",
       "      <td>17176</td>\n",
       "      <td>10.751268</td>\n",
       "    </tr>\n",
       "  </tbody>\n",
       "</table>\n",
       "</div>"
      ],
      "text/plain": [
       "               Segment  counts  log_counts\n",
       "0          can't loose       1    1.000000\n",
       "1      loyal customers       1    1.000000\n",
       "2       need attention       2    1.693147\n",
       "3              at risk       4    2.386294\n",
       "4            champions       4    2.386294\n",
       "5  potential loyalists      38    4.637586\n",
       "6            promising    8608   10.060447\n",
       "7       about to sleep    8615   10.061260\n",
       "8        new customers    8664   10.066932\n",
       "9          hibernating   17176   10.751268"
      ]
     },
     "execution_count": 407,
     "metadata": {},
     "output_type": "execute_result"
    }
   ],
   "source": [
    "df_rfm_segments = df_rfm.groupby(by='Segment') \\\n",
    "    .rfm.count() \\\n",
    "    .sort_values() \\\n",
    "    .reset_index() \\\n",
    "    .rename(columns={'rfm':'counts'})\n",
    "df_rfm_segments['log_counts'] = np.log(df_rfm_segments.counts) + 1\n",
    "df_rfm_segments"
   ]
  },
  {
   "cell_type": "code",
   "execution_count": 763,
   "metadata": {},
   "outputs": [
    {
     "data": {
      "image/png": "[encoded data removed]",
      "text/plain": [
       "<Figure size 1080x576 with 1 Axes>"
      ]
     },
     "metadata": {},
     "output_type": "display_data"
    }
   ],
   "source": [
    "plt.figure(figsize=(15,8))\n",
    "\n",
    "default_color = our_palette['default']\n",
    "max_color = our_palette['max']\n",
    "\n",
    "clrs = [default_color if (x < df_rfm_segments.counts.max()) else max_color for x in df_rfm_segments.counts ]\n",
    "ax = sns.barplot(data = df_rfm_segments, y='Segment', x='log_counts', color=default_color, palette=clrs)\n",
    "\n",
    "y = df_rfm_segments.log_counts\n",
    "y_max = y.max()\n",
    "real_y_sum = df_rfm_segments.counts.sum()\n",
    "\n",
    "index = 0\n",
    "for bar in ax.patches:\n",
    "    real_value = df_rfm_segments.iloc[index].counts\n",
    "    value = bar.get_width()\n",
    "    \n",
    "    color = 'black'\n",
    "    # подкрасим максимум\n",
    "    if value == y_max:\n",
    "        color = 'w'\n",
    "\n",
    "    tx_ofset = value / 2\n",
    "    ty_offest = bar.get_y() + bar.get_height() / 2\n",
    "    t_value = f'{int(real_value)}({int(real_value * 100 / real_y_sum)}%)'\n",
    "\n",
    "    ax.text(tx_ofset, ty_offest, t_value,\n",
    "            ha='center',\n",
    "            va='center',\n",
    "            color=color,\n",
    "            fontsize=14)\n",
    "    \n",
    "    index +=1\n"
   ]
  },
  {
   "cell_type": "code",
   "execution_count": 762,
   "metadata": {},
   "outputs": [
    {
     "data": {
      "image/png": "[encoded data removed]",
      "text/plain": [
       "<Figure size 1440x432 with 3 Axes>"
      ]
     },
     "metadata": {},
     "output_type": "display_data"
    }
   ],
   "source": [
    "# график распредения\n",
    "fig, axes = plt.subplots(nrows=1, ncols=3, figsize=(20, 6))\n",
    "\n",
    "for i, p in enumerate(['R', 'F', 'M']):\n",
    "    parameters = {'R':'Recency', 'F':'Frequency', 'M':'Monetary'}\n",
    "    y = df_rfm[p].value_counts().sort_index()\n",
    "    x = y.index\n",
    "    ax = axes[i]\n",
    "    bars = ax.bar(x, y, color=our_palette['default'])\n",
    "    ax.set_frame_on(False)\n",
    "    ax.tick_params(left=False, labelleft=False, bottom=False)\n",
    "    ax.set_title('Distribution of {}'.format(parameters[p]), fontsize=14)\n",
    "    \n",
    "    for bar in bars:\n",
    "        value = bar.get_height()\n",
    "        \n",
    "        color = 'black'\n",
    "        # подкрасим максимум\n",
    "        if value == y.max():\n",
    "            bar.set_color(our_palette['max'])\n",
    "            color = 'w'\n",
    "        \n",
    "        # отобразим значение\n",
    "        tx_ofset = bar.get_x() + bar.get_width() / 2\n",
    "        ty_offest = value / 2\n",
    "        t_va = 'top'\n",
    "        t_value = f'{int(value)}\\n({int(value * 100 / y.sum())}%)'\n",
    "        \n",
    "        if value <= 100:\n",
    "            t_va = 'baseline'\n",
    "\n",
    "        ax.text(tx_ofset, ty_offest, t_value,\n",
    "               ha='center',\n",
    "               va=t_va,\n",
    "               color=color,\n",
    "               fontsize=14)\n",
    "\n",
    "plt.show()"
   ]
  },
  {
   "cell_type": "code",
   "execution_count": 761,
   "metadata": {},
   "outputs": [
    {
     "name": "stderr",
     "output_type": "stream",
     "text": [
      "<ipython-input-761-19e7f4b8b3d8>:12: UserWarning:\n",
      "\n",
      "Boolean Series key will be reindexed to match DataFrame index.\n",
      "\n"
     ]
    },
    {
     "data": {
      "image/png": "[encoded data removed]",
      "text/plain": [
       "<Figure size 720x720 with 25 Axes>"
      ]
     },
     "metadata": {},
     "output_type": "display_data"
    }
   ],
   "source": [
    "# plot the distribution of M for RF score (Without F == 1)\n",
    "fig, axes = plt.subplots(nrows=5, ncols=5,\n",
    "                         sharex=False, sharey=True,\n",
    "                         figsize=(10, 10))\n",
    "\n",
    "df_without_f1 = df_rfm[df_rfm.F > 1]\n",
    "\n",
    "r_range = range(1, 6)\n",
    "f_range = range(1, 6)\n",
    "for r in r_range:\n",
    "    for f in f_range:\n",
    "        y = df_without_f1[(df_rfm['R'] == r) & (df_rfm['F'] == f)]['M'].value_counts().sort_index()\n",
    "        x = y.index\n",
    "        ax = axes[r - 1, f - 1]\n",
    "        bars = ax.bar(x, y, color=our_palette['default'])\n",
    "        if r == 5:\n",
    "            if f == 3:\n",
    "                ax.set_xlabel(f'{f}\\nF', va='top')\n",
    "            else:\n",
    "                ax.set_xlabel(f'{f}\\n', va='top')\n",
    "        if f == 1:\n",
    "            if r == 3:\n",
    "                ax.set_ylabel(f'R\\n{r}')\n",
    "            else:\n",
    "                ax.set_ylabel(r)\n",
    "        ax.set_frame_on(False)\n",
    "        ax.tick_params(left=False, labelleft=False, bottom=False)\n",
    "        ax.set_xticks(x)\n",
    "        ax.set_xticklabels(x, fontsize=8)\n",
    "\n",
    "        for bar in bars:\n",
    "            value = bar.get_height()\n",
    "            if value == y.max():\n",
    "                bar.set_color(our_palette['max'])\n",
    "            ax.text(bar.get_x() + bar.get_width() / 2,\n",
    "                    value,\n",
    "                    int(value),\n",
    "                    ha='center',\n",
    "                    va='bottom',\n",
    "                    color='k')\n",
    "\n",
    "fig.suptitle('Distribution of M for each F and R (Without F == 1)',\n",
    "             fontsize=14)\n",
    "plt.tight_layout()\n",
    "plt.show()\n"
   ]
  },
  {
   "cell_type": "code",
   "execution_count": null,
   "metadata": {},
   "outputs": [],
   "source": []
  }
 ],
 "metadata": {
  "kernelspec": {
   "display_name": "Python 3.8.8 ('base')",
   "language": "python",
   "name": "python3"
  },
  "language_info": {
   "codemirror_mode": {
    "name": "ipython",
    "version": 3
   },
   "file_extension": ".py",
   "mimetype": "text/x-python",
   "name": "python",
   "nbconvert_exporter": "python",
   "pygments_lexer": "ipython3",
   "version": "3.8.8"
  },
  "orig_nbformat": 4,
  "vscode": {
   "interpreter": {
    "hash": "4c62ffd6e4fba16dfdbb3c8124c485821ec2dc2c629030f80ae71594aa9915f5"
   }
  }
 },
 "nbformat": 4,
 "nbformat_minor": 2
}
